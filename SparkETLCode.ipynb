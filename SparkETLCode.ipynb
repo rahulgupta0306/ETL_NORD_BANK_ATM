{
 "cells": [
  {
   "cell_type": "markdown",
   "id": "ce9e733c-2694-4310-816b-8278a410f410",
   "metadata": {
    "execution": {
     "iopub.execute_input": "2024-07-07T13:22:57.885892Z",
     "iopub.status.busy": "2024-07-07T13:22:57.885159Z",
     "iopub.status.idle": "2024-07-07T13:23:39.711618Z",
     "shell.execute_reply": "2024-07-07T13:23:39.710613Z",
     "shell.execute_reply.started": "2024-07-07T13:22:57.885839Z"
    },
    "tags": []
   },
   "source": [
    "## ETL PROJECT ASSIGNMENT - DSC60 ##"
   ]
  },
  {
   "cell_type": "code",
   "execution_count": 1,
   "id": "43c2190b-9028-4cd0-88a7-2fc2a2345b7f",
   "metadata": {
    "execution": {
     "iopub.execute_input": "2024-07-07T16:25:25.390196Z",
     "iopub.status.busy": "2024-07-07T16:25:25.387920Z",
     "iopub.status.idle": "2024-07-07T16:26:01.229457Z",
     "shell.execute_reply": "2024-07-07T16:26:01.225439Z",
     "shell.execute_reply.started": "2024-07-07T16:25:25.390138Z"
    }
   },
   "outputs": [
    {
     "data": {
      "application/vnd.jupyter.widget-view+json": {
       "model_id": "025a677cc914437f973d167174476ba6",
       "version_major": 2,
       "version_minor": 0
      },
      "text/plain": [
       "VBox()"
      ]
     },
     "metadata": {},
     "output_type": "display_data"
    },
    {
     "name": "stdout",
     "output_type": "stream",
     "text": [
      "Starting Spark application\n"
     ]
    },
    {
     "data": {
      "text/html": [
       "<table>\n",
       "<tr><th>ID</th><th>YARN Application ID</th><th>Kind</th><th>State</th><th>Spark UI</th><th>Driver log</th><th>Current session?</th></tr><tr><td>9</td><td>application_1720346423656_0011</td><td>pyspark</td><td>idle</td><td><a target=\"_blank\" href=\"http://ip-172-31-43-151.ec2.internal:20888/proxy/application_1720346423656_0011/\">Link</a></td><td><a target=\"_blank\" href=\"http://ip-172-31-43-151.ec2.internal:8042/node/containerlogs/container_1720346423656_0011_01_000001/livy\">Link</a></td><td>✔</td></tr></table>"
      ],
      "text/plain": [
       "<IPython.core.display.HTML object>"
      ]
     },
     "metadata": {},
     "output_type": "display_data"
    },
    {
     "data": {
      "application/vnd.jupyter.widget-view+json": {
       "model_id": "",
       "version_major": 2,
       "version_minor": 0
      },
      "text/plain": [
       "FloatProgress(value=0.0, bar_style='info', description='Progress:', layout=Layout(height='25px', width='50%'),…"
      ]
     },
     "metadata": {},
     "output_type": "display_data"
    },
    {
     "name": "stdout",
     "output_type": "stream",
     "text": [
      "SparkSession available as 'spark'.\n"
     ]
    },
    {
     "data": {
      "application/vnd.jupyter.widget-view+json": {
       "model_id": "",
       "version_major": 2,
       "version_minor": 0
      },
      "text/plain": [
       "FloatProgress(value=0.0, bar_style='info', description='Progress:', layout=Layout(height='25px', width='50%'),…"
      ]
     },
     "metadata": {},
     "output_type": "display_data"
    },
    {
     "name": "stdout",
     "output_type": "stream",
     "text": [
      "<SparkContext master=yarn appName=livy-session-9>"
     ]
    }
   ],
   "source": [
    "sc"
   ]
  },
  {
   "cell_type": "markdown",
   "id": "617faed6-be0e-41c3-8c25-2be87d91a379",
   "metadata": {},
   "source": [
    "#### Import Necessary PySpark Libraries ####"
   ]
  },
  {
   "cell_type": "code",
   "execution_count": 2,
   "id": "646d03fc-b10f-43e1-8e68-c572e1c39a03",
   "metadata": {
    "execution": {
     "iopub.execute_input": "2024-07-07T16:26:01.233441Z",
     "iopub.status.busy": "2024-07-07T16:26:01.233013Z",
     "iopub.status.idle": "2024-07-07T16:26:01.682290Z",
     "shell.execute_reply": "2024-07-07T16:26:01.674453Z",
     "shell.execute_reply.started": "2024-07-07T16:26:01.233399Z"
    },
    "tags": []
   },
   "outputs": [
    {
     "data": {
      "application/vnd.jupyter.widget-view+json": {
       "model_id": "fb7cf7b897f24eb49d925a10a5c79f93",
       "version_major": 2,
       "version_minor": 0
      },
      "text/plain": [
       "VBox()"
      ]
     },
     "metadata": {},
     "output_type": "display_data"
    },
    {
     "data": {
      "application/vnd.jupyter.widget-view+json": {
       "model_id": "",
       "version_major": 2,
       "version_minor": 0
      },
      "text/plain": [
       "FloatProgress(value=0.0, bar_style='info', description='Progress:', layout=Layout(height='25px', width='50%'),…"
      ]
     },
     "metadata": {},
     "output_type": "display_data"
    }
   ],
   "source": [
    "from pyspark.sql import SparkSession\n",
    "from pyspark.sql.functions import *\n",
    "from pyspark.sql import Row\n",
    "from pyspark.sql.types import StructType, StructField, IntegerType, StringType, BooleanType, DoubleType, LongType"
   ]
  },
  {
   "cell_type": "markdown",
   "id": "dc5b81bb-ac1c-4311-ab5d-61c53570b504",
   "metadata": {},
   "source": [
    "#### Create a SparkSession ####"
   ]
  },
  {
   "cell_type": "code",
   "execution_count": 3,
   "id": "bf1f1cef-6a41-4e7c-852a-90edff86942c",
   "metadata": {
    "execution": {
     "iopub.execute_input": "2024-07-07T16:26:01.702990Z",
     "iopub.status.busy": "2024-07-07T16:26:01.697367Z",
     "iopub.status.idle": "2024-07-07T16:26:02.882549Z",
     "shell.execute_reply": "2024-07-07T16:26:02.875333Z",
     "shell.execute_reply.started": "2024-07-07T16:26:01.702939Z"
    }
   },
   "outputs": [
    {
     "data": {
      "application/vnd.jupyter.widget-view+json": {
       "model_id": "4b5cb939573541f5b43b45abf9b05f4c",
       "version_major": 2,
       "version_minor": 0
      },
      "text/plain": [
       "VBox()"
      ]
     },
     "metadata": {},
     "output_type": "display_data"
    },
    {
     "data": {
      "application/vnd.jupyter.widget-view+json": {
       "model_id": "",
       "version_major": 2,
       "version_minor": 0
      },
      "text/plain": [
       "FloatProgress(value=0.0, bar_style='info', description='Progress:', layout=Layout(height='25px', width='50%'),…"
      ]
     },
     "metadata": {},
     "output_type": "display_data"
    }
   ],
   "source": [
    "spark = SparkSession.builder.appName(\"ETL Assignment\").getOrCreate()"
   ]
  },
  {
   "cell_type": "markdown",
   "id": "75394726-fbb8-4aea-9740-27244bd8151b",
   "metadata": {},
   "source": [
    "#### Read Data from Hadoop Cluster and Store it in a DataFrame ####"
   ]
  },
  {
   "cell_type": "code",
   "execution_count": 4,
   "id": "313692b8-f1f2-4f05-91ae-d16364b9d834",
   "metadata": {
    "execution": {
     "iopub.execute_input": "2024-07-07T16:26:02.885838Z",
     "iopub.status.busy": "2024-07-07T16:26:02.885012Z",
     "iopub.status.idle": "2024-07-07T16:26:34.998549Z",
     "shell.execute_reply": "2024-07-07T16:26:34.996676Z",
     "shell.execute_reply.started": "2024-07-07T16:26:02.885791Z"
    },
    "tags": []
   },
   "outputs": [
    {
     "data": {
      "application/vnd.jupyter.widget-view+json": {
       "model_id": "5bdd58a17dc14ef8ba0f1530580bebbb",
       "version_major": 2,
       "version_minor": 0
      },
      "text/plain": [
       "VBox()"
      ]
     },
     "metadata": {},
     "output_type": "display_data"
    },
    {
     "data": {
      "application/vnd.jupyter.widget-view+json": {
       "model_id": "",
       "version_major": 2,
       "version_minor": 0
      },
      "text/plain": [
       "FloatProgress(value=0.0, bar_style='info', description='Progress:', layout=Layout(height='25px', width='50%'),…"
      ]
     },
     "metadata": {},
     "output_type": "display_data"
    }
   ],
   "source": [
    "\n",
    "df = spark.read.format(\"csv\").option(\"header\", \"false\").option(\"inferSchema\", \"true\").load(\"/user/hadoop/atm/part-m-00000\")"
   ]
  },
  {
   "cell_type": "markdown",
   "id": "7989183b-06e3-4db0-addf-7802fb6906f2",
   "metadata": {},
   "source": [
    "#### Count the Number of Rows Imported ####"
   ]
  },
  {
   "cell_type": "code",
   "execution_count": 5,
   "id": "1c10cfce-6167-4332-8acd-b26a89b28b80",
   "metadata": {
    "execution": {
     "iopub.execute_input": "2024-07-07T16:26:35.001168Z",
     "iopub.status.busy": "2024-07-07T16:26:35.000790Z",
     "iopub.status.idle": "2024-07-07T16:26:38.899918Z",
     "shell.execute_reply": "2024-07-07T16:26:38.898666Z",
     "shell.execute_reply.started": "2024-07-07T16:26:35.001128Z"
    }
   },
   "outputs": [
    {
     "data": {
      "application/vnd.jupyter.widget-view+json": {
       "model_id": "469bed78249d4c46b601052b7e096aa4",
       "version_major": 2,
       "version_minor": 0
      },
      "text/plain": [
       "VBox()"
      ]
     },
     "metadata": {},
     "output_type": "display_data"
    },
    {
     "data": {
      "application/vnd.jupyter.widget-view+json": {
       "model_id": "",
       "version_major": 2,
       "version_minor": 0
      },
      "text/plain": [
       "FloatProgress(value=0.0, bar_style='info', description='Progress:', layout=Layout(height='25px', width='50%'),…"
      ]
     },
     "metadata": {},
     "output_type": "display_data"
    },
    {
     "name": "stdout",
     "output_type": "stream",
     "text": [
      "2468572"
     ]
    }
   ],
   "source": [
    "df.count()\n",
    "\n",
    "## 2468572"
   ]
  },
  {
   "cell_type": "markdown",
   "id": "898f00bd-5732-4a2b-ad14-5f1647300cfb",
   "metadata": {},
   "source": [
    "#### Show First Few Rows of DataFrame ####"
   ]
  },
  {
   "cell_type": "code",
   "execution_count": 6,
   "id": "deb2d93b-8f16-4c6c-87dc-f8a52d6e248b",
   "metadata": {
    "execution": {
     "iopub.execute_input": "2024-07-07T16:26:38.902949Z",
     "iopub.status.busy": "2024-07-07T16:26:38.901897Z",
     "iopub.status.idle": "2024-07-07T16:26:40.270452Z",
     "shell.execute_reply": "2024-07-07T16:26:40.196498Z",
     "shell.execute_reply.started": "2024-07-07T16:26:38.902815Z"
    }
   },
   "outputs": [
    {
     "data": {
      "application/vnd.jupyter.widget-view+json": {
       "model_id": "717a34c66970449c91061c65e9568143",
       "version_major": 2,
       "version_minor": 0
      },
      "text/plain": [
       "VBox()"
      ]
     },
     "metadata": {},
     "output_type": "display_data"
    },
    {
     "data": {
      "application/vnd.jupyter.widget-view+json": {
       "model_id": "",
       "version_major": 2,
       "version_minor": 0
      },
      "text/plain": [
       "FloatProgress(value=0.0, bar_style='info', description='Progress:', layout=Layout(height='25px', width='50%'),…"
      ]
     },
     "metadata": {},
     "output_type": "display_data"
    },
    {
     "name": "stdout",
     "output_type": "stream",
     "text": [
      "+----+-------+---+------+---+--------+---+---+----------+-------------------+----+----+------+------+----+----------+----+----------+----+----+------+------+-------+--------------+------+----+----+----+----+-----+----+----+-------+--------------------+\n",
      "| _c0|    _c1|_c2|   _c3|_c4|     _c5|_c6|_c7|       _c8|                _c9|_c10|_c11|  _c12|  _c13|_c14|      _c15|_c16|      _c17|_c18|_c19|  _c20|  _c21|   _c22|          _c23|  _c24|_c25|_c26|_c27|_c28| _c29|_c30|_c31|   _c32|                _c33|\n",
      "+----+-------+---+------+---+--------+---+---+----------+-------------------+----+----+------+------+----+----------+----+----------+----+----+------+------+-------+--------------+------+----+----+----+----+-----+----+----+-------+--------------------+\n",
      "|2017|January|  1|Sunday|  0|  Active|  1|NCR|NÃƒÂ¦stved|        Farimagsvej|   8|4700|55.233|11.763| DKK|MasterCard|5643|Withdrawal|null|null| 55.23|11.761|2616038|      Naestved|281.15|1014|  87|   7| 260|0.215|  92| 500|   Rain|          light rain|\n",
      "|2017|January|  1|Sunday|  0|Inactive|  2|NCR|  Vejgaard|         Hadsundvej|  20|9000|57.043|  9.95| DKK|MasterCard|1764|Withdrawal|null|null|57.048| 9.935|2616235|NÃƒÂ¸rresundby|280.64|1020|  93|   9| 250| 0.59|  92| 500|   Rain|          light rain|\n",
      "|2017|January|  1|Sunday|  0|Inactive|  2|NCR|  Vejgaard|         Hadsundvej|  20|9000|57.043|  9.95| DKK|      VISA|1891|Withdrawal|null|null|57.048| 9.935|2616235|NÃƒÂ¸rresundby|280.64|1020|  93|   9| 250| 0.59|  92| 500|   Rain|          light rain|\n",
      "|2017|January|  1|Sunday|  0|Inactive|  3|NCR|     Ikast|RÃƒÂ¥dhusstrÃƒÂ¦det|  12|7430|56.139| 9.154| DKK|      VISA|4166|Withdrawal|null|null|56.139| 9.158|2619426|         Ikast|281.15|1011| 100|   6| 240|  0.0|  75| 300|Drizzle|light intensity d...|\n",
      "|2017|January|  1|Sunday|  0|  Active|  4|NCR|Svogerslev|       BrÃƒÂ¸nsager|   1|4000|55.634|12.018| DKK|MasterCard|5153|Withdrawal|null|null|55.642| 12.08|2614481|      Roskilde|280.61|1014|  87|   7| 260|  0.0|  88| 701|   Mist|                mist|\n",
      "+----+-------+---+------+---+--------+---+---+----------+-------------------+----+----+------+------+----+----------+----+----------+----+----+------+------+-------+--------------+------+----+----+----+----+-----+----+----+-------+--------------------+\n",
      "only showing top 5 rows"
     ]
    }
   ],
   "source": [
    "df.show(5)"
   ]
  },
  {
   "cell_type": "markdown",
   "id": "2756dae3-993d-498b-8c81-98e1c7d5425e",
   "metadata": {},
   "source": [
    "#### Show DataFrame Schema ####"
   ]
  },
  {
   "cell_type": "code",
   "execution_count": 7,
   "id": "026d56c6-2d3a-4f8b-97c1-fd30be4b6718",
   "metadata": {
    "execution": {
     "iopub.execute_input": "2024-07-07T16:26:40.299095Z",
     "iopub.status.busy": "2024-07-07T16:26:40.288221Z",
     "iopub.status.idle": "2024-07-07T16:26:41.079200Z",
     "shell.execute_reply": "2024-07-07T16:26:41.077653Z",
     "shell.execute_reply.started": "2024-07-07T16:26:40.299045Z"
    }
   },
   "outputs": [
    {
     "data": {
      "application/vnd.jupyter.widget-view+json": {
       "model_id": "f827c803b0fb4866b1ebadba7ad78b7e",
       "version_major": 2,
       "version_minor": 0
      },
      "text/plain": [
       "VBox()"
      ]
     },
     "metadata": {},
     "output_type": "display_data"
    },
    {
     "data": {
      "application/vnd.jupyter.widget-view+json": {
       "model_id": "",
       "version_major": 2,
       "version_minor": 0
      },
      "text/plain": [
       "FloatProgress(value=0.0, bar_style='info', description='Progress:', layout=Layout(height='25px', width='50%'),…"
      ]
     },
     "metadata": {},
     "output_type": "display_data"
    },
    {
     "name": "stdout",
     "output_type": "stream",
     "text": [
      "root\n",
      " |-- _c0: integer (nullable = true)\n",
      " |-- _c1: string (nullable = true)\n",
      " |-- _c2: integer (nullable = true)\n",
      " |-- _c3: string (nullable = true)\n",
      " |-- _c4: integer (nullable = true)\n",
      " |-- _c5: string (nullable = true)\n",
      " |-- _c6: integer (nullable = true)\n",
      " |-- _c7: string (nullable = true)\n",
      " |-- _c8: string (nullable = true)\n",
      " |-- _c9: string (nullable = true)\n",
      " |-- _c10: integer (nullable = true)\n",
      " |-- _c11: integer (nullable = true)\n",
      " |-- _c12: double (nullable = true)\n",
      " |-- _c13: double (nullable = true)\n",
      " |-- _c14: string (nullable = true)\n",
      " |-- _c15: string (nullable = true)\n",
      " |-- _c16: integer (nullable = true)\n",
      " |-- _c17: string (nullable = true)\n",
      " |-- _c18: integer (nullable = true)\n",
      " |-- _c19: string (nullable = true)\n",
      " |-- _c20: double (nullable = true)\n",
      " |-- _c21: double (nullable = true)\n",
      " |-- _c22: integer (nullable = true)\n",
      " |-- _c23: string (nullable = true)\n",
      " |-- _c24: double (nullable = true)\n",
      " |-- _c25: integer (nullable = true)\n",
      " |-- _c26: integer (nullable = true)\n",
      " |-- _c27: integer (nullable = true)\n",
      " |-- _c28: integer (nullable = true)\n",
      " |-- _c29: double (nullable = true)\n",
      " |-- _c30: integer (nullable = true)\n",
      " |-- _c31: integer (nullable = true)\n",
      " |-- _c32: string (nullable = true)\n",
      " |-- _c33: string (nullable = true)"
     ]
    }
   ],
   "source": [
    "df.printSchema()"
   ]
  },
  {
   "cell_type": "markdown",
   "id": "e014dfe9-ab3d-4de3-8618-67094d543db4",
   "metadata": {
    "execution": {
     "iopub.execute_input": "2024-07-07T13:24:16.892797Z",
     "iopub.status.busy": "2024-07-07T13:24:16.892149Z",
     "iopub.status.idle": "2024-07-07T13:24:17.586139Z",
     "shell.execute_reply": "2024-07-07T13:24:17.584763Z",
     "shell.execute_reply.started": "2024-07-07T13:24:16.892751Z"
    }
   },
   "source": [
    "#### Create the Custom Columns for the Dataframe inside a Schema ####"
   ]
  },
  {
   "cell_type": "code",
   "execution_count": 8,
   "id": "288ce0d3-50da-4d62-8e7b-81b5a7a9efb1",
   "metadata": {
    "execution": {
     "iopub.execute_input": "2024-07-07T16:26:41.089292Z",
     "iopub.status.busy": "2024-07-07T16:26:41.083695Z",
     "iopub.status.idle": "2024-07-07T16:26:41.986141Z",
     "shell.execute_reply": "2024-07-07T16:26:41.985040Z",
     "shell.execute_reply.started": "2024-07-07T16:26:41.089240Z"
    }
   },
   "outputs": [
    {
     "data": {
      "application/vnd.jupyter.widget-view+json": {
       "model_id": "8743cee41a1240b9b61143b5313604a7",
       "version_major": 2,
       "version_minor": 0
      },
      "text/plain": [
       "VBox()"
      ]
     },
     "metadata": {},
     "output_type": "display_data"
    },
    {
     "data": {
      "application/vnd.jupyter.widget-view+json": {
       "model_id": "",
       "version_major": 2,
       "version_minor": 0
      },
      "text/plain": [
       "FloatProgress(value=0.0, bar_style='info', description='Progress:', layout=Layout(height='25px', width='50%'),…"
      ]
     },
     "metadata": {},
     "output_type": "display_data"
    }
   ],
   "source": [
    "df_schema = StructType([StructField('year', IntegerType(), nullable = True),\n",
    "                        StructField('month', StringType(), True),\n",
    "                        StructField('day', IntegerType(), True),\n",
    "                        StructField('weekday', StringType(), True),\n",
    "                        StructField('hour', IntegerType(), True),\n",
    "                        StructField('atm_status', StringType(), True),\n",
    "                        StructField('atm_id', StringType(), True),\n",
    "                        StructField('atm_manufacturer', StringType(), True),\n",
    "                        StructField('atm_location', StringType(), True),\n",
    "                        StructField('atm_streetname', StringType(), True),\n",
    "                        StructField('atm_street_number', IntegerType(), True),\n",
    "                        StructField('atm_zipcode', IntegerType(), True),\n",
    "                        StructField('atm_lat', DoubleType(), True),\n",
    "                        StructField('atm_lon', DoubleType(), True),\n",
    "                        StructField('currency', StringType(), True),\n",
    "                        StructField('card_type', StringType(), True),\n",
    "                        StructField('transaction_amount', IntegerType(), True),\n",
    "                        StructField('service', StringType(), True),\n",
    "                        StructField('message_code', StringType(), True),\n",
    "                        StructField('message_text', StringType(), True),\n",
    "                        StructField('weather_lat', DoubleType(), True),\n",
    "                        StructField('weather_lon', DoubleType(), True),\n",
    "                        StructField('weather_city_id', IntegerType(), True),\n",
    "                        StructField('weather_city_name', StringType(), True),\n",
    "                        StructField('temp', DoubleType(), True),\n",
    "                        StructField('pressure', IntegerType(), True),\n",
    "                        StructField('humidity', IntegerType(), True),\n",
    "                        StructField('wind_speed', IntegerType(), True),\n",
    "                        StructField('wind_deg', IntegerType(), True),\n",
    "                        StructField('rain_3h', DoubleType(), True),\n",
    "                        StructField('clouds_all', IntegerType(), True),\n",
    "                        StructField('weather_id', IntegerType(), True),\n",
    "                        StructField('weather_main', StringType(), True),\n",
    "                        StructField('weather_description', StringType(), True)])"
   ]
  },
  {
   "cell_type": "markdown",
   "id": "b35a6296-03f2-4731-a969-25ed93f0952c",
   "metadata": {
    "execution": {
     "iopub.execute_input": "2024-07-07T13:34:25.803022Z",
     "iopub.status.busy": "2024-07-07T13:34:25.802675Z",
     "iopub.status.idle": "2024-07-07T13:34:26.093653Z",
     "shell.execute_reply": "2024-07-07T13:34:26.091242Z",
     "shell.execute_reply.started": "2024-07-07T13:34:25.802991Z"
    }
   },
   "source": [
    "#### Load the Hadoop Data with Defined Schema ###"
   ]
  },
  {
   "cell_type": "code",
   "execution_count": 9,
   "id": "e5a5d6d4-298b-4153-98c4-3420dd71bdb2",
   "metadata": {
    "execution": {
     "iopub.execute_input": "2024-07-07T16:26:41.990802Z",
     "iopub.status.busy": "2024-07-07T16:26:41.988317Z",
     "iopub.status.idle": "2024-07-07T16:26:42.791100Z",
     "shell.execute_reply": "2024-07-07T16:26:42.789979Z",
     "shell.execute_reply.started": "2024-07-07T16:26:41.990756Z"
    },
    "tags": []
   },
   "outputs": [
    {
     "data": {
      "application/vnd.jupyter.widget-view+json": {
       "model_id": "ca619f9045eb48ad84b4b2411f70c60e",
       "version_major": 2,
       "version_minor": 0
      },
      "text/plain": [
       "VBox()"
      ]
     },
     "metadata": {},
     "output_type": "display_data"
    },
    {
     "data": {
      "application/vnd.jupyter.widget-view+json": {
       "model_id": "",
       "version_major": 2,
       "version_minor": 0
      },
      "text/plain": [
       "FloatProgress(value=0.0, bar_style='info', description='Progress:', layout=Layout(height='25px', width='50%'),…"
      ]
     },
     "metadata": {},
     "output_type": "display_data"
    }
   ],
   "source": [
    "df = spark.read.format(\"csv\").option(\"header\", \"false\").schema(df_schema).load(\"/user/hadoop/atm/part-m-00000\")"
   ]
  },
  {
   "cell_type": "markdown",
   "id": "cacca5fa-f32f-4e13-a391-bdee529a8613",
   "metadata": {},
   "source": [
    "#### Count of Number of Records ####"
   ]
  },
  {
   "cell_type": "code",
   "execution_count": 10,
   "id": "37bd2d8f-2f2c-4702-ba8a-4ae2de1551c0",
   "metadata": {
    "execution": {
     "iopub.execute_input": "2024-07-07T16:26:42.797427Z",
     "iopub.status.busy": "2024-07-07T16:26:42.793805Z",
     "iopub.status.idle": "2024-07-07T16:26:46.174014Z",
     "shell.execute_reply": "2024-07-07T16:26:46.172816Z",
     "shell.execute_reply.started": "2024-07-07T16:26:42.797394Z"
    }
   },
   "outputs": [
    {
     "data": {
      "application/vnd.jupyter.widget-view+json": {
       "model_id": "0db1bee1e3f94a1183b778f4f1ed5614",
       "version_major": 2,
       "version_minor": 0
      },
      "text/plain": [
       "VBox()"
      ]
     },
     "metadata": {},
     "output_type": "display_data"
    },
    {
     "data": {
      "application/vnd.jupyter.widget-view+json": {
       "model_id": "",
       "version_major": 2,
       "version_minor": 0
      },
      "text/plain": [
       "FloatProgress(value=0.0, bar_style='info', description='Progress:', layout=Layout(height='25px', width='50%'),…"
      ]
     },
     "metadata": {},
     "output_type": "display_data"
    },
    {
     "name": "stdout",
     "output_type": "stream",
     "text": [
      "2468572"
     ]
    }
   ],
   "source": [
    "df.select('*').count()\n",
    "\n",
    "## 2468572"
   ]
  },
  {
   "cell_type": "markdown",
   "id": "b989f4cd-7add-49ce-a7ac-617724ddc035",
   "metadata": {
    "execution": {
     "iopub.execute_input": "2024-07-07T13:35:27.190738Z",
     "iopub.status.busy": "2024-07-07T13:35:27.190381Z",
     "iopub.status.idle": "2024-07-07T13:35:27.491721Z",
     "shell.execute_reply": "2024-07-07T13:35:27.490523Z",
     "shell.execute_reply.started": "2024-07-07T13:35:27.190709Z"
    }
   },
   "source": [
    "#### Show the Currect DataFrame Schema ####"
   ]
  },
  {
   "cell_type": "code",
   "execution_count": 11,
   "id": "553040ec-e8e9-47cc-aee4-1d15e103520e",
   "metadata": {
    "execution": {
     "iopub.execute_input": "2024-07-07T16:26:46.176620Z",
     "iopub.status.busy": "2024-07-07T16:26:46.175666Z",
     "iopub.status.idle": "2024-07-07T16:26:46.774925Z",
     "shell.execute_reply": "2024-07-07T16:26:46.773776Z",
     "shell.execute_reply.started": "2024-07-07T16:26:46.176575Z"
    }
   },
   "outputs": [
    {
     "data": {
      "application/vnd.jupyter.widget-view+json": {
       "model_id": "7672b204b48144e69ec8a7434517c893",
       "version_major": 2,
       "version_minor": 0
      },
      "text/plain": [
       "VBox()"
      ]
     },
     "metadata": {},
     "output_type": "display_data"
    },
    {
     "data": {
      "application/vnd.jupyter.widget-view+json": {
       "model_id": "",
       "version_major": 2,
       "version_minor": 0
      },
      "text/plain": [
       "FloatProgress(value=0.0, bar_style='info', description='Progress:', layout=Layout(height='25px', width='50%'),…"
      ]
     },
     "metadata": {},
     "output_type": "display_data"
    },
    {
     "name": "stdout",
     "output_type": "stream",
     "text": [
      "root\n",
      " |-- year: integer (nullable = true)\n",
      " |-- month: string (nullable = true)\n",
      " |-- day: integer (nullable = true)\n",
      " |-- weekday: string (nullable = true)\n",
      " |-- hour: integer (nullable = true)\n",
      " |-- atm_status: string (nullable = true)\n",
      " |-- atm_id: string (nullable = true)\n",
      " |-- atm_manufacturer: string (nullable = true)\n",
      " |-- atm_location: string (nullable = true)\n",
      " |-- atm_streetname: string (nullable = true)\n",
      " |-- atm_street_number: integer (nullable = true)\n",
      " |-- atm_zipcode: integer (nullable = true)\n",
      " |-- atm_lat: double (nullable = true)\n",
      " |-- atm_lon: double (nullable = true)\n",
      " |-- currency: string (nullable = true)\n",
      " |-- card_type: string (nullable = true)\n",
      " |-- transaction_amount: integer (nullable = true)\n",
      " |-- service: string (nullable = true)\n",
      " |-- message_code: string (nullable = true)\n",
      " |-- message_text: string (nullable = true)\n",
      " |-- weather_lat: double (nullable = true)\n",
      " |-- weather_lon: double (nullable = true)\n",
      " |-- weather_city_id: integer (nullable = true)\n",
      " |-- weather_city_name: string (nullable = true)\n",
      " |-- temp: double (nullable = true)\n",
      " |-- pressure: integer (nullable = true)\n",
      " |-- humidity: integer (nullable = true)\n",
      " |-- wind_speed: integer (nullable = true)\n",
      " |-- wind_deg: integer (nullable = true)\n",
      " |-- rain_3h: double (nullable = true)\n",
      " |-- clouds_all: integer (nullable = true)\n",
      " |-- weather_id: integer (nullable = true)\n",
      " |-- weather_main: string (nullable = true)\n",
      " |-- weather_description: string (nullable = true)"
     ]
    }
   ],
   "source": [
    "df.printSchema()"
   ]
  },
  {
   "cell_type": "code",
   "execution_count": 12,
   "id": "f59eb840-87aa-4990-a786-0328d52603a0",
   "metadata": {
    "execution": {
     "iopub.execute_input": "2024-07-07T16:26:46.778130Z",
     "iopub.status.busy": "2024-07-07T16:26:46.776581Z",
     "iopub.status.idle": "2024-07-07T16:28:14.181904Z",
     "shell.execute_reply": "2024-07-07T16:28:14.180799Z",
     "shell.execute_reply.started": "2024-07-07T16:26:46.778087Z"
    }
   },
   "outputs": [
    {
     "data": {
      "application/vnd.jupyter.widget-view+json": {
       "model_id": "2d23002572824f44afefb1019883149f",
       "version_major": 2,
       "version_minor": 0
      },
      "text/plain": [
       "VBox()"
      ]
     },
     "metadata": {},
     "output_type": "display_data"
    },
    {
     "data": {
      "application/vnd.jupyter.widget-view+json": {
       "model_id": "",
       "version_major": 2,
       "version_minor": 0
      },
      "text/plain": [
       "FloatProgress(value=0.0, bar_style='info', description='Progress:', layout=Layout(height='25px', width='50%'),…"
      ]
     },
     "metadata": {},
     "output_type": "display_data"
    },
    {
     "name": "stdout",
     "output_type": "stream",
     "text": [
      "+-------+-------+---------+------------------+---------+------------------+----------+------------------+----------------+--------------------+--------------+------------------+------------------+------------------+------------------+--------+---------+------------------+----------+-----------------+--------------------+------------------+------------------+-----------------+-----------------+-----------------+------------------+------------------+------------------+------------------+-------------------+------------------+-----------------+------------+--------------------+\n",
      "|summary|   year|    month|               day|  weekday|              hour|atm_status|            atm_id|atm_manufacturer|        atm_location|atm_streetname| atm_street_number|       atm_zipcode|           atm_lat|           atm_lon|currency|card_type|transaction_amount|   service|     message_code|        message_text|       weather_lat|       weather_lon|  weather_city_id|weather_city_name|             temp|          pressure|          humidity|        wind_speed|          wind_deg|            rain_3h|        clouds_all|       weather_id|weather_main| weather_description|\n",
      "+-------+-------+---------+------------------+---------+------------------+----------+------------------+----------------+--------------------+--------------+------------------+------------------+------------------+------------------+--------+---------+------------------+----------+-----------------+--------------------+------------------+------------------+-----------------+-----------------+-----------------+------------------+------------------+------------------+------------------+-------------------+------------------+-----------------+------------+--------------------+\n",
      "|  count|2468572|  2468572|           2468572|  2468572|           2468572|   2468572|           2468572|         2468572|             2468572|       2468572|           2468572|           2468572|           2468572|           2468572| 2468572|  2468572|           2468572|   2468572|             9563|                9562|           2460485|           2460485|          2460485|          2460485|          2460485|           2460485|           2460485|           2460485|           2460485|            2460485|           2460485|          2460485|     2460485|             2460485|\n",
      "|   mean| 2017.0|     null|15.501904744929456|     null|13.275850572719774|      null|44.035888359748064|            null|                null|          null|44.547821574578336| 8327.379362643665| 56.71120084243688|10.072374844233957|    null|     null|5003.7781190907135|      null|4016.231412736589|                null|   56.704286159849| 10.07370329265572|2618071.234070925|             null|283.5352952097944|1016.0516528245447| 80.32309564984139| 5.261702469228628|205.66828938197145|0.13553203128651245| 49.25143701343434| 717.019827798178|        null|                null|\n",
      "| stddev|    0.0|     null| 9.240351569776646|     null|3.7498300157040374|      null| 28.11935064135384|            null|                null|          null| 91.99575588192835|1925.8323376496185|0.6645847175722858|0.8345553760793362|    null|     null|2886.6868456636207|      null|41.15257585421254|                null|0.6691128384792379|0.8392830562690236|4686.822422405112|             null|6.260875793945562|12.327032193171043|15.234085105822373|2.9809421781327328| 85.30745917495845| 0.6797153550359587|34.202926258896184|140.4676222576347|        null|                null|\n",
      "|    min|   2017|    April|                 1|   Friday|                 0|    Active|                 1| Diebold Nixdorf|             Aabybro| AakjÃƒÂ¦rsvej|                 1|              1550|            55.058|             8.408|     DKK|   CIRRUS|                 0|Withdrawal|             0000|No response recei...|             55.06|              8.45|          2610095|          Aalborg|           260.02|               974|                 0|                 0|                 0|                0.0|                 0|              200|       Clear|        Sky is Clear|\n",
      "|    max|   2017|September|                31|Wednesday|                23|  Inactive|                99|             NCR|ÃƒËœsterÃƒÂ¥  MÃƒ...|  ÃƒËœsterÃƒÂ¥|               452|              9990|            57.723|            12.612|     USD| VisaPlus|             10000|Withdrawal|             4019|Timed-out taking ...|            57.721|            12.614|          2625037|          Vodskov|           302.15|              1057|               174|                77|               360|              30.65|               100|              804|Thunderstorm|thunderstorm with...|\n",
      "+-------+-------+---------+------------------+---------+------------------+----------+------------------+----------------+--------------------+--------------+------------------+------------------+------------------+------------------+--------+---------+------------------+----------+-----------------+--------------------+------------------+------------------+-----------------+-----------------+-----------------+------------------+------------------+------------------+------------------+-------------------+------------------+-----------------+------------+--------------------+"
     ]
    }
   ],
   "source": [
    "# Calculate summary statistics\n",
    "df.describe().show()"
   ]
  },
  {
   "cell_type": "markdown",
   "id": "418f7b4b-deab-4e2d-aaeb-8c2e41ac9a87",
   "metadata": {
    "execution": {
     "iopub.execute_input": "2024-07-07T13:25:53.468017Z",
     "iopub.status.busy": "2024-07-07T13:25:53.467247Z",
     "iopub.status.idle": "2024-07-07T13:25:54.554125Z",
     "shell.execute_reply": "2024-07-07T13:25:54.550355Z",
     "shell.execute_reply.started": "2024-07-07T13:25:53.467959Z"
    },
    "tags": []
   },
   "source": [
    "#### Number of Records Post Removal of Duplicates ####"
   ]
  },
  {
   "cell_type": "code",
   "execution_count": 13,
   "id": "b6b7047b-acda-443a-ae04-4b91d7d0a67b",
   "metadata": {
    "execution": {
     "iopub.execute_input": "2024-07-07T16:28:14.185304Z",
     "iopub.status.busy": "2024-07-07T16:28:14.184756Z",
     "iopub.status.idle": "2024-07-07T16:28:42.598039Z",
     "shell.execute_reply": "2024-07-07T16:28:42.587569Z",
     "shell.execute_reply.started": "2024-07-07T16:28:14.185225Z"
    },
    "tags": []
   },
   "outputs": [
    {
     "data": {
      "application/vnd.jupyter.widget-view+json": {
       "model_id": "962fde39d7774cb7a9bc3e041b8a9b21",
       "version_major": 2,
       "version_minor": 0
      },
      "text/plain": [
       "VBox()"
      ]
     },
     "metadata": {},
     "output_type": "display_data"
    },
    {
     "data": {
      "application/vnd.jupyter.widget-view+json": {
       "model_id": "",
       "version_major": 2,
       "version_minor": 0
      },
      "text/plain": [
       "FloatProgress(value=0.0, bar_style='info', description='Progress:', layout=Layout(height='25px', width='50%'),…"
      ]
     },
     "metadata": {},
     "output_type": "display_data"
    },
    {
     "name": "stdout",
     "output_type": "stream",
     "text": [
      "2468300"
     ]
    }
   ],
   "source": [
    "df_unique = df.dropDuplicates()\n",
    "df_unique.count()"
   ]
  },
  {
   "cell_type": "markdown",
   "id": "bd159e95-cdde-4d0a-9fd3-f70a4180a4b8",
   "metadata": {
    "execution": {
     "iopub.execute_input": "2024-07-07T13:37:00.428948Z",
     "iopub.status.busy": "2024-07-07T13:37:00.428550Z",
     "iopub.status.idle": "2024-07-07T13:37:00.773129Z",
     "shell.execute_reply": "2024-07-07T13:37:00.771918Z",
     "shell.execute_reply.started": "2024-07-07T13:37:00.428913Z"
    }
   },
   "source": [
    "#### Testing the DateFrame with Random Query ####"
   ]
  },
  {
   "cell_type": "markdown",
   "id": "9f90b3f6-404f-48a4-81fd-fef6bb81c9f0",
   "metadata": {},
   "source": [
    "##### Print Unique ATM Locations #####"
   ]
  },
  {
   "cell_type": "code",
   "execution_count": 14,
   "id": "88b69f79-2f72-4bfd-843b-3956838ca20e",
   "metadata": {
    "execution": {
     "iopub.execute_input": "2024-07-07T16:28:42.601461Z",
     "iopub.status.busy": "2024-07-07T16:28:42.600995Z",
     "iopub.status.idle": "2024-07-07T16:28:51.371832Z",
     "shell.execute_reply": "2024-07-07T16:28:51.297154Z",
     "shell.execute_reply.started": "2024-07-07T16:28:42.601417Z"
    },
    "tags": []
   },
   "outputs": [
    {
     "data": {
      "application/vnd.jupyter.widget-view+json": {
       "model_id": "bcb62a82181847a7a4539df7875afec0",
       "version_major": 2,
       "version_minor": 0
      },
      "text/plain": [
       "VBox()"
      ]
     },
     "metadata": {},
     "output_type": "display_data"
    },
    {
     "data": {
      "application/vnd.jupyter.widget-view+json": {
       "model_id": "",
       "version_major": 2,
       "version_minor": 0
      },
      "text/plain": [
       "FloatProgress(value=0.0, bar_style='info', description='Progress:', layout=Layout(height='25px', width='50%'),…"
      ]
     },
     "metadata": {},
     "output_type": "display_data"
    },
    {
     "name": "stdout",
     "output_type": "stream",
     "text": [
      "+-------------------------+\n",
      "|atm_location             |\n",
      "+-------------------------+\n",
      "|Vinderup                 |\n",
      "|Aars                     |\n",
      "|KÃƒÂ¸benhavn             |\n",
      "|Roskilde                 |\n",
      "|Horsens                  |\n",
      "|Nyborg                   |\n",
      "|Intern  Hjallerup        |\n",
      "|Intern  Skive            |\n",
      "|Intern  HjÃƒÂ¸rring      |\n",
      "|Skive                    |\n",
      "|Daglig Brugsen ÃƒËœ.Hurup|\n",
      "|Skagen                   |\n",
      "|Middelfart               |\n",
      "|Gistrup                  |\n",
      "|NÃƒÂ¦stved               |\n",
      "|Nordkraft                |\n",
      "|Vestre                   |\n",
      "|Hobro                    |\n",
      "|ÃƒËœsterÃƒÂ¥  Duus       |\n",
      "|NykÃƒÂ¸bing Mors         |\n",
      "+-------------------------+\n",
      "only showing top 20 rows"
     ]
    }
   ],
   "source": [
    "df.select(\"atm_location\").distinct().show(truncate=False)"
   ]
  },
  {
   "cell_type": "markdown",
   "id": "9295a239-a404-4d8e-b39e-94296ac59229",
   "metadata": {
    "execution": {
     "iopub.execute_input": "2024-07-07T13:38:22.714889Z",
     "iopub.status.busy": "2024-07-07T13:38:22.714546Z",
     "iopub.status.idle": "2024-07-07T13:38:22.988858Z",
     "shell.execute_reply": "2024-07-07T13:38:22.987672Z",
     "shell.execute_reply.started": "2024-07-07T13:38:22.714859Z"
    }
   },
   "source": [
    "## DIM_LOCATION Dimension Creation ##"
   ]
  },
  {
   "cell_type": "markdown",
   "id": "1db4b73c-82c1-4da2-86d3-5bdc7c1c7eb6",
   "metadata": {
    "execution": {
     "iopub.execute_input": "2024-07-07T13:38:57.642945Z",
     "iopub.status.busy": "2024-07-07T13:38:57.642597Z",
     "iopub.status.idle": "2024-07-07T13:38:57.972562Z",
     "shell.execute_reply": "2024-07-07T13:38:57.970893Z",
     "shell.execute_reply.started": "2024-07-07T13:38:57.642914Z"
    }
   },
   "source": [
    "#### Select all the ATM related Field from DataFrame and Perfom Data Cleansing ####"
   ]
  },
  {
   "cell_type": "code",
   "execution_count": 15,
   "id": "d33d01fb-b7e7-45ff-b2fd-46c42d7c4b19",
   "metadata": {
    "execution": {
     "iopub.execute_input": "2024-07-07T16:28:51.377653Z",
     "iopub.status.busy": "2024-07-07T16:28:51.374398Z",
     "iopub.status.idle": "2024-07-07T16:29:04.781897Z",
     "shell.execute_reply": "2024-07-07T16:29:04.780418Z",
     "shell.execute_reply.started": "2024-07-07T16:28:51.377606Z"
    },
    "tags": []
   },
   "outputs": [
    {
     "data": {
      "application/vnd.jupyter.widget-view+json": {
       "model_id": "f25dccaf2f7643b68009f4de43c4146b",
       "version_major": 2,
       "version_minor": 0
      },
      "text/plain": [
       "VBox()"
      ]
     },
     "metadata": {},
     "output_type": "display_data"
    },
    {
     "data": {
      "application/vnd.jupyter.widget-view+json": {
       "model_id": "",
       "version_major": 2,
       "version_minor": 0
      },
      "text/plain": [
       "FloatProgress(value=0.0, bar_style='info', description='Progress:', layout=Layout(height='25px', width='50%'),…"
      ]
     },
     "metadata": {},
     "output_type": "display_data"
    },
    {
     "name": "stdout",
     "output_type": "stream",
     "text": [
      "109"
     ]
    }
   ],
   "source": [
    "df_dim_location_dropduplicates= df.select(\"atm_location\",\"atm_streetname\",\"atm_street_number\",\"atm_zipcode\",\"atm_lat\",\"atm_lon\").dropDuplicates()\n",
    "df_dim_location_dropduplicates.count()\n",
    "df_dim_location_distinct = df.select(\"atm_location\",\"atm_streetname\",\"atm_street_number\",\"atm_zipcode\",\"atm_lat\",\"atm_lon\").distinct()\n",
    "df_dim_location_distinct.count()\n",
    "\n",
    "## 109"
   ]
  },
  {
   "cell_type": "markdown",
   "id": "466df5d8-d942-407a-a7b9-ed7feb7b79d0",
   "metadata": {
    "tags": []
   },
   "source": [
    "#### Create Primary Key for Location Dimension Table ####"
   ]
  },
  {
   "cell_type": "code",
   "execution_count": 16,
   "id": "c3e7d523-c3a7-4dc3-ac56-60520f06e8d8",
   "metadata": {
    "execution": {
     "iopub.execute_input": "2024-07-07T16:29:04.786236Z",
     "iopub.status.busy": "2024-07-07T16:29:04.783395Z",
     "iopub.status.idle": "2024-07-07T16:29:18.574775Z",
     "shell.execute_reply": "2024-07-07T16:29:18.572531Z",
     "shell.execute_reply.started": "2024-07-07T16:29:04.786187Z"
    },
    "tags": []
   },
   "outputs": [
    {
     "data": {
      "application/vnd.jupyter.widget-view+json": {
       "model_id": "c442a79f02c4451784fbc79ba42a180d",
       "version_major": 2,
       "version_minor": 0
      },
      "text/plain": [
       "VBox()"
      ]
     },
     "metadata": {},
     "output_type": "display_data"
    },
    {
     "data": {
      "application/vnd.jupyter.widget-view+json": {
       "model_id": "",
       "version_major": 2,
       "version_minor": 0
      },
      "text/plain": [
       "FloatProgress(value=0.0, bar_style='info', description='Progress:', layout=Layout(height='25px', width='50%'),…"
      ]
     },
     "metadata": {},
     "output_type": "display_data"
    },
    {
     "name": "stdout",
     "output_type": "stream",
     "text": [
      "+-------+----------------+-------+-----------------+-------------------+-----------+-----------+\n",
      "|atm_lat|    atm_location|atm_lon|atm_street_number|     atm_streetname|atm_zipcode|location_id|\n",
      "+-------+----------------+-------+-----------------+-------------------+-----------+-----------+\n",
      "| 55.505|         Kolding|  9.457|              135|           Vejlevej|       6000|          0|\n",
      "| 57.023|  Skelagervej 15|  9.891|               15|        Skelagervej|       9000|         29|\n",
      "| 55.718|Intern HolbÃƒÂ¦k| 11.704|                7|        Slotsvolden|       4300|         58|\n",
      "| 55.394|          Odense|  10.37|                3|       FÃƒÂ¦lledvej|       5000|         87|\n",
      "| 56.139|           Ikast|  9.154|               12|RÃƒÂ¥dhusstrÃƒÂ¦det|       7430|          1|\n",
      "| 56.462|         Randers| 10.038|               16|       ÃƒËœstervold|       8900|         30|\n",
      "| 55.468|         Esbjerg|   8.44|               20|       Strandbygade|       6700|         59|\n",
      "| 55.772|          Lyngby|   12.5|                6|        Jernbanevej|       2800|         88|\n",
      "| 56.567|           Skive|  9.027|                8|           Adelgade|       7800|          2|\n",
      "| 56.745|           Durup|  8.949|                4|             Torvet|       7870|         31|\n",
      "+-------+----------------+-------+-----------------+-------------------+-----------+-----------+\n",
      "only showing top 10 rows"
     ]
    }
   ],
   "source": [
    "\n",
    "df_dim_location_distinct_zip = df_dim_location_distinct.rdd.zipWithUniqueId()\n",
    "df_dim_location=df_dim_location_distinct_zip.map(lambda x: Row(**{'location_id': x[1], **x[0].asDict()})).toDF()\n",
    "df_dim_location.show(10)"
   ]
  },
  {
   "cell_type": "markdown",
   "id": "9c35e319-98a1-44f5-8766-db801f8f8567",
   "metadata": {
    "execution": {
     "iopub.execute_input": "2024-07-07T13:26:58.641392Z",
     "iopub.status.busy": "2024-07-07T13:26:58.640974Z",
     "iopub.status.idle": "2024-07-07T13:26:59.682655Z",
     "shell.execute_reply": "2024-07-07T13:26:59.681377Z",
     "shell.execute_reply.started": "2024-07-07T13:26:58.641306Z"
    }
   },
   "source": [
    "#### Rename Columns to Match with Target Dimension ####"
   ]
  },
  {
   "cell_type": "code",
   "execution_count": 17,
   "id": "8603056c-0a08-4a6e-aaaa-27f04e3f3295",
   "metadata": {
    "execution": {
     "iopub.execute_input": "2024-07-07T16:29:18.584062Z",
     "iopub.status.busy": "2024-07-07T16:29:18.583420Z",
     "iopub.status.idle": "2024-07-07T16:29:19.183124Z",
     "shell.execute_reply": "2024-07-07T16:29:19.177563Z",
     "shell.execute_reply.started": "2024-07-07T16:29:18.584026Z"
    },
    "tags": []
   },
   "outputs": [
    {
     "data": {
      "application/vnd.jupyter.widget-view+json": {
       "model_id": "0eddbb134b744409a31d48026180f2cd",
       "version_major": 2,
       "version_minor": 0
      },
      "text/plain": [
       "VBox()"
      ]
     },
     "metadata": {},
     "output_type": "display_data"
    },
    {
     "data": {
      "application/vnd.jupyter.widget-view+json": {
       "model_id": "",
       "version_major": 2,
       "version_minor": 0
      },
      "text/plain": [
       "FloatProgress(value=0.0, bar_style='info', description='Progress:', layout=Layout(height='25px', width='50%'),…"
      ]
     },
     "metadata": {},
     "output_type": "display_data"
    }
   ],
   "source": [
    "DF_DIM_LOCATION = df_dim_location.withColumnRenamed('atm_location','location').withColumnRenamed('atm_streetname','streetname').withColumnRenamed('atm_street_number','street_number').withColumnRenamed('atm_zipcode','zipcode').withColumnRenamed('atm_lat','lat').withColumnRenamed('atm_lon','lon')"
   ]
  },
  {
   "cell_type": "markdown",
   "id": "abb27b1c-c19f-476d-9245-ead834df0930",
   "metadata": {},
   "source": [
    "#### Rearranging the Columns ####"
   ]
  },
  {
   "cell_type": "code",
   "execution_count": 18,
   "id": "43fb44c8-8360-44fb-ad9f-e4e3c469ef9e",
   "metadata": {
    "execution": {
     "iopub.execute_input": "2024-07-07T16:29:19.184645Z",
     "iopub.status.busy": "2024-07-07T16:29:19.184287Z",
     "iopub.status.idle": "2024-07-07T16:29:19.597719Z",
     "shell.execute_reply": "2024-07-07T16:29:19.596611Z",
     "shell.execute_reply.started": "2024-07-07T16:29:19.184605Z"
    }
   },
   "outputs": [
    {
     "data": {
      "application/vnd.jupyter.widget-view+json": {
       "model_id": "d56a9d4faa5f49b4a0524ba8f8c5dbb2",
       "version_major": 2,
       "version_minor": 0
      },
      "text/plain": [
       "VBox()"
      ]
     },
     "metadata": {},
     "output_type": "display_data"
    },
    {
     "data": {
      "application/vnd.jupyter.widget-view+json": {
       "model_id": "",
       "version_major": 2,
       "version_minor": 0
      },
      "text/plain": [
       "FloatProgress(value=0.0, bar_style='info', description='Progress:', layout=Layout(height='25px', width='50%'),…"
      ]
     },
     "metadata": {},
     "output_type": "display_data"
    }
   ],
   "source": [
    "DF_DIM_LOCATION = DF_DIM_LOCATION.select(\"location_id\",\"location\",\"streetname\",\"street_number\",\"zipcode\",\"lat\",\"lon\")"
   ]
  },
  {
   "cell_type": "markdown",
   "id": "1c9ce2e6-7930-4fc1-b1e6-0d1897adfeb2",
   "metadata": {},
   "source": [
    "#### Validate the No of RowS ####"
   ]
  },
  {
   "cell_type": "code",
   "execution_count": 19,
   "id": "4b20fb3e-3ee6-4d56-862d-f3a29f2a1322",
   "metadata": {
    "execution": {
     "iopub.execute_input": "2024-07-07T16:29:19.599706Z",
     "iopub.status.busy": "2024-07-07T16:29:19.599104Z",
     "iopub.status.idle": "2024-07-07T16:29:20.648244Z",
     "shell.execute_reply": "2024-07-07T16:29:20.647033Z",
     "shell.execute_reply.started": "2024-07-07T16:29:19.599665Z"
    },
    "tags": []
   },
   "outputs": [
    {
     "data": {
      "application/vnd.jupyter.widget-view+json": {
       "model_id": "2a80c00625b74a41bbff162dd5e151fe",
       "version_major": 2,
       "version_minor": 0
      },
      "text/plain": [
       "VBox()"
      ]
     },
     "metadata": {},
     "output_type": "display_data"
    },
    {
     "data": {
      "application/vnd.jupyter.widget-view+json": {
       "model_id": "",
       "version_major": 2,
       "version_minor": 0
      },
      "text/plain": [
       "FloatProgress(value=0.0, bar_style='info', description='Progress:', layout=Layout(height='25px', width='50%'),…"
      ]
     },
     "metadata": {},
     "output_type": "display_data"
    },
    {
     "name": "stdout",
     "output_type": "stream",
     "text": [
      "109"
     ]
    }
   ],
   "source": [
    "DF_DIM_LOCATION.count()\n",
    "\n",
    "## 109"
   ]
  },
  {
   "cell_type": "markdown",
   "id": "74ad26d2-b429-4d14-90e3-c656288a325c",
   "metadata": {},
   "source": [
    "## DIM_ATM Dimension Creation ##"
   ]
  },
  {
   "cell_type": "code",
   "execution_count": 20,
   "id": "1e4a53ea-e317-45cb-8b70-1de0707e99ce",
   "metadata": {
    "execution": {
     "iopub.execute_input": "2024-07-07T16:29:20.652947Z",
     "iopub.status.busy": "2024-07-07T16:29:20.650136Z",
     "iopub.status.idle": "2024-07-07T16:29:21.160219Z",
     "shell.execute_reply": "2024-07-07T16:29:21.157040Z",
     "shell.execute_reply.started": "2024-07-07T16:29:20.652895Z"
    },
    "tags": []
   },
   "outputs": [
    {
     "data": {
      "application/vnd.jupyter.widget-view+json": {
       "model_id": "b7d39e9543024fa2894ec84991a6b8f6",
       "version_major": 2,
       "version_minor": 0
      },
      "text/plain": [
       "VBox()"
      ]
     },
     "metadata": {},
     "output_type": "display_data"
    },
    {
     "data": {
      "application/vnd.jupyter.widget-view+json": {
       "model_id": "",
       "version_major": 2,
       "version_minor": 0
      },
      "text/plain": [
       "FloatProgress(value=0.0, bar_style='info', description='Progress:', layout=Layout(height='25px', width='50%'),…"
      ]
     },
     "metadata": {},
     "output_type": "display_data"
    }
   ],
   "source": [
    "temp_df_atm = df.select(\"atm_id\",\"atm_manufacturer\",\"atm_location\",\"atm_streetname\",\"atm_street_number\",\"atm_zipcode\",\"atm_lat\",\"atm_lon\")"
   ]
  },
  {
   "cell_type": "code",
   "execution_count": 21,
   "id": "646c0d10-6cab-4fdd-a2d4-88b0e83328b4",
   "metadata": {
    "execution": {
     "iopub.execute_input": "2024-07-07T16:29:21.162904Z",
     "iopub.status.busy": "2024-07-07T16:29:21.162604Z",
     "iopub.status.idle": "2024-07-07T16:29:21.417654Z",
     "shell.execute_reply": "2024-07-07T16:29:21.416338Z",
     "shell.execute_reply.started": "2024-07-07T16:29:21.162876Z"
    },
    "tags": []
   },
   "outputs": [
    {
     "data": {
      "application/vnd.jupyter.widget-view+json": {
       "model_id": "021197826250494dad1a31c3554b686f",
       "version_major": 2,
       "version_minor": 0
      },
      "text/plain": [
       "VBox()"
      ]
     },
     "metadata": {},
     "output_type": "display_data"
    },
    {
     "data": {
      "application/vnd.jupyter.widget-view+json": {
       "model_id": "",
       "version_major": 2,
       "version_minor": 0
      },
      "text/plain": [
       "FloatProgress(value=0.0, bar_style='info', description='Progress:', layout=Layout(height='25px', width='50%'),…"
      ]
     },
     "metadata": {},
     "output_type": "display_data"
    }
   ],
   "source": [
    "# Renaming Columns \n",
    "temp_df_atm = temp_df_atm.withColumnRenamed('atm_id', 'atm_number')"
   ]
  },
  {
   "cell_type": "markdown",
   "id": "5cf6ae95-b2d3-4fe7-a4f7-3ba3331a3789",
   "metadata": {
    "execution": {
     "iopub.execute_input": "2024-07-07T13:27:04.693206Z",
     "iopub.status.busy": "2024-07-07T13:27:04.690546Z",
     "iopub.status.idle": "2024-07-07T13:27:07.075574Z",
     "shell.execute_reply": "2024-07-07T13:27:07.073956Z",
     "shell.execute_reply.started": "2024-07-07T13:27:04.693164Z"
    },
    "tags": []
   },
   "source": [
    "#### Joining Temporary ATM DF with Location Dimenstion DF\n",
    "#### This will populate the ATM_LOCATION_ID"
   ]
  },
  {
   "cell_type": "code",
   "execution_count": 22,
   "id": "59b69407-066c-4aeb-80d5-969e85b606f1",
   "metadata": {
    "execution": {
     "iopub.execute_input": "2024-07-07T16:29:21.470885Z",
     "iopub.status.busy": "2024-07-07T16:29:21.419066Z",
     "iopub.status.idle": "2024-07-07T16:29:21.897617Z",
     "shell.execute_reply": "2024-07-07T16:29:21.894161Z",
     "shell.execute_reply.started": "2024-07-07T16:29:21.470819Z"
    },
    "tags": []
   },
   "outputs": [
    {
     "data": {
      "application/vnd.jupyter.widget-view+json": {
       "model_id": "b376f0c72e4e4933a948d8661d9aca4f",
       "version_major": 2,
       "version_minor": 0
      },
      "text/plain": [
       "VBox()"
      ]
     },
     "metadata": {},
     "output_type": "display_data"
    },
    {
     "data": {
      "application/vnd.jupyter.widget-view+json": {
       "model_id": "",
       "version_major": 2,
       "version_minor": 0
      },
      "text/plain": [
       "FloatProgress(value=0.0, bar_style='info', description='Progress:', layout=Layout(height='25px', width='50%'),…"
      ]
     },
     "metadata": {},
     "output_type": "display_data"
    }
   ],
   "source": [
    "temp_df_atm_join_loc = temp_df_atm.join(df_dim_location, on =[\"atm_location\",\"atm_streetname\",\"atm_street_number\",\"atm_zipcode\",\"atm_lat\",\"atm_lon\"], how=\"left\")"
   ]
  },
  {
   "cell_type": "markdown",
   "id": "bd14d28d-4da7-440e-a050-f19cc8546d8b",
   "metadata": {
    "execution": {
     "iopub.execute_input": "2024-07-07T13:27:08.279437Z",
     "iopub.status.busy": "2024-07-07T13:27:08.278893Z",
     "iopub.status.idle": "2024-07-07T13:27:18.479607Z",
     "shell.execute_reply": "2024-07-07T13:27:18.475190Z",
     "shell.execute_reply.started": "2024-07-07T13:27:08.279390Z"
    },
    "tags": []
   },
   "source": [
    "#### Dropping Duplicates From Join Table ####"
   ]
  },
  {
   "cell_type": "code",
   "execution_count": 23,
   "id": "a453920a-0b3c-499e-a9fb-0afaed10290d",
   "metadata": {
    "execution": {
     "iopub.execute_input": "2024-07-07T16:29:21.901125Z",
     "iopub.status.busy": "2024-07-07T16:29:21.900720Z",
     "iopub.status.idle": "2024-07-07T16:29:22.475338Z",
     "shell.execute_reply": "2024-07-07T16:29:22.473793Z",
     "shell.execute_reply.started": "2024-07-07T16:29:21.901081Z"
    },
    "tags": []
   },
   "outputs": [
    {
     "data": {
      "application/vnd.jupyter.widget-view+json": {
       "model_id": "01c35e4b1d6b456480ecbc99dfe78265",
       "version_major": 2,
       "version_minor": 0
      },
      "text/plain": [
       "VBox()"
      ]
     },
     "metadata": {},
     "output_type": "display_data"
    },
    {
     "data": {
      "application/vnd.jupyter.widget-view+json": {
       "model_id": "",
       "version_major": 2,
       "version_minor": 0
      },
      "text/plain": [
       "FloatProgress(value=0.0, bar_style='info', description='Progress:', layout=Layout(height='25px', width='50%'),…"
      ]
     },
     "metadata": {},
     "output_type": "display_data"
    }
   ],
   "source": [
    "temp_df_atm_join_loc_dropduplicates = temp_df_atm_join_loc.select('atm_number', 'atm_manufacturer', 'location_id').distinct()"
   ]
  },
  {
   "cell_type": "code",
   "execution_count": 24,
   "id": "4549e4f3-2e37-4389-8859-5158aef59d79",
   "metadata": {
    "execution": {
     "iopub.execute_input": "2024-07-07T16:29:22.497515Z",
     "iopub.status.busy": "2024-07-07T16:29:22.491272Z",
     "iopub.status.idle": "2024-07-07T16:29:23.476284Z",
     "shell.execute_reply": "2024-07-07T16:29:23.474893Z",
     "shell.execute_reply.started": "2024-07-07T16:29:22.497481Z"
    },
    "tags": []
   },
   "outputs": [
    {
     "data": {
      "application/vnd.jupyter.widget-view+json": {
       "model_id": "c35ec9eed5464f048dea47a373e0ec73",
       "version_major": 2,
       "version_minor": 0
      },
      "text/plain": [
       "VBox()"
      ]
     },
     "metadata": {},
     "output_type": "display_data"
    },
    {
     "data": {
      "application/vnd.jupyter.widget-view+json": {
       "model_id": "",
       "version_major": 2,
       "version_minor": 0
      },
      "text/plain": [
       "FloatProgress(value=0.0, bar_style='info', description='Progress:', layout=Layout(height='25px', width='50%'),…"
      ]
     },
     "metadata": {},
     "output_type": "display_data"
    }
   ],
   "source": [
    "df_dim_atm = temp_df_atm_join_loc_dropduplicates.withColumnRenamed('location_id', 'atm_location_id')"
   ]
  },
  {
   "cell_type": "markdown",
   "id": "9b7ec63a-8344-4f74-921f-00ef2240726c",
   "metadata": {},
   "source": [
    "#### Verifying the Columns ####"
   ]
  },
  {
   "cell_type": "code",
   "execution_count": 25,
   "id": "b0f450fa-4793-43ee-86cf-13203e49b1b6",
   "metadata": {
    "execution": {
     "iopub.execute_input": "2024-07-07T16:29:23.480318Z",
     "iopub.status.busy": "2024-07-07T16:29:23.479730Z",
     "iopub.status.idle": "2024-07-07T16:29:24.983332Z",
     "shell.execute_reply": "2024-07-07T16:29:24.981933Z",
     "shell.execute_reply.started": "2024-07-07T16:29:23.480270Z"
    },
    "tags": []
   },
   "outputs": [
    {
     "data": {
      "application/vnd.jupyter.widget-view+json": {
       "model_id": "097859c9e7d14add90fb5f27be38b33a",
       "version_major": 2,
       "version_minor": 0
      },
      "text/plain": [
       "VBox()"
      ]
     },
     "metadata": {},
     "output_type": "display_data"
    },
    {
     "data": {
      "application/vnd.jupyter.widget-view+json": {
       "model_id": "",
       "version_major": 2,
       "version_minor": 0
      },
      "text/plain": [
       "FloatProgress(value=0.0, bar_style='info', description='Progress:', layout=Layout(height='25px', width='50%'),…"
      ]
     },
     "metadata": {},
     "output_type": "display_data"
    },
    {
     "name": "stdout",
     "output_type": "stream",
     "text": [
      "['atm_number', 'atm_manufacturer', 'atm_location_id']"
     ]
    }
   ],
   "source": [
    "df_dim_atm.columns"
   ]
  },
  {
   "cell_type": "markdown",
   "id": "e484c666-75db-48a7-b6b9-412c0cc8535d",
   "metadata": {},
   "source": [
    "#### Create Primary Key for Location Dimension Table ####"
   ]
  },
  {
   "cell_type": "code",
   "execution_count": 26,
   "id": "6981a530-6b47-4b42-9c08-dfb6c253cc0b",
   "metadata": {
    "execution": {
     "iopub.execute_input": "2024-07-07T16:29:24.987619Z",
     "iopub.status.busy": "2024-07-07T16:29:24.985000Z",
     "iopub.status.idle": "2024-07-07T16:29:38.143205Z",
     "shell.execute_reply": "2024-07-07T16:29:38.141761Z",
     "shell.execute_reply.started": "2024-07-07T16:29:24.987578Z"
    },
    "tags": []
   },
   "outputs": [
    {
     "data": {
      "application/vnd.jupyter.widget-view+json": {
       "model_id": "a2fda079f87c4e3199ce22e564b452cf",
       "version_major": 2,
       "version_minor": 0
      },
      "text/plain": [
       "VBox()"
      ]
     },
     "metadata": {},
     "output_type": "display_data"
    },
    {
     "data": {
      "application/vnd.jupyter.widget-view+json": {
       "model_id": "",
       "version_major": 2,
       "version_minor": 0
      },
      "text/plain": [
       "FloatProgress(value=0.0, bar_style='info', description='Progress:', layout=Layout(height='25px', width='50%'),…"
      ]
     },
     "metadata": {},
     "output_type": "display_data"
    },
    {
     "name": "stdout",
     "output_type": "stream",
     "text": [
      "+----------+----------------+---------------+------+\n",
      "|atm_number|atm_manufacturer|atm_location_id|atm_id|\n",
      "+----------+----------------+---------------+------+\n",
      "|        62| Diebold Nixdorf|             63|     0|\n",
      "|        65|             NCR|             80|     1|\n",
      "|        77|             NCR|             16|     2|\n",
      "|        85| Diebold Nixdorf|             96|     3|\n",
      "|         1|             NCR|             89|     4|\n",
      "+----------+----------------+---------------+------+\n",
      "only showing top 5 rows"
     ]
    }
   ],
   "source": [
    "df_temp = df_dim_atm.rdd.zipWithIndex().toDF()\n",
    "dim_atm = df_temp.select(col(\"_1.*\"),col(\"_2\").alias('atm_id'))\n",
    "dim_atm.show(5)"
   ]
  },
  {
   "cell_type": "markdown",
   "id": "2c8517a7-785e-4b29-a11d-e97a23107447",
   "metadata": {},
   "source": [
    "#### Rearranging the Columns ####"
   ]
  },
  {
   "cell_type": "code",
   "execution_count": 27,
   "id": "028a28cb-d0f3-47e0-9b70-f6173e58f5f0",
   "metadata": {
    "execution": {
     "iopub.execute_input": "2024-07-07T16:29:38.147115Z",
     "iopub.status.busy": "2024-07-07T16:29:38.146745Z",
     "iopub.status.idle": "2024-07-07T16:29:38.478768Z",
     "shell.execute_reply": "2024-07-07T16:29:38.477522Z",
     "shell.execute_reply.started": "2024-07-07T16:29:38.147084Z"
    },
    "tags": []
   },
   "outputs": [
    {
     "data": {
      "application/vnd.jupyter.widget-view+json": {
       "model_id": "b8a13bfdaa8449b2af23eeca5fbac0f7",
       "version_major": 2,
       "version_minor": 0
      },
      "text/plain": [
       "VBox()"
      ]
     },
     "metadata": {},
     "output_type": "display_data"
    },
    {
     "data": {
      "application/vnd.jupyter.widget-view+json": {
       "model_id": "",
       "version_major": 2,
       "version_minor": 0
      },
      "text/plain": [
       "FloatProgress(value=0.0, bar_style='info', description='Progress:', layout=Layout(height='25px', width='50%'),…"
      ]
     },
     "metadata": {},
     "output_type": "display_data"
    }
   ],
   "source": [
    "DF_DIM_ATM = dim_atm.select(\"atm_id\",\"atm_number\",\"atm_manufacturer\",\"atm_location_id\")"
   ]
  },
  {
   "cell_type": "markdown",
   "id": "218c1261-4d11-45e7-b949-910720d436c7",
   "metadata": {},
   "source": [
    "#### Validate the No of RowS ####"
   ]
  },
  {
   "cell_type": "code",
   "execution_count": 28,
   "id": "e4e9e183-b56e-4fd5-bdf9-c7fdc39ad72b",
   "metadata": {
    "execution": {
     "iopub.execute_input": "2024-07-07T16:29:38.480657Z",
     "iopub.status.busy": "2024-07-07T16:29:38.480288Z",
     "iopub.status.idle": "2024-07-07T16:29:40.083507Z",
     "shell.execute_reply": "2024-07-07T16:29:40.075836Z",
     "shell.execute_reply.started": "2024-07-07T16:29:38.480615Z"
    },
    "tags": []
   },
   "outputs": [
    {
     "data": {
      "application/vnd.jupyter.widget-view+json": {
       "model_id": "c63cc46f4a2042d584e86ee6c4539fb1",
       "version_major": 2,
       "version_minor": 0
      },
      "text/plain": [
       "VBox()"
      ]
     },
     "metadata": {},
     "output_type": "display_data"
    },
    {
     "data": {
      "application/vnd.jupyter.widget-view+json": {
       "model_id": "",
       "version_major": 2,
       "version_minor": 0
      },
      "text/plain": [
       "FloatProgress(value=0.0, bar_style='info', description='Progress:', layout=Layout(height='25px', width='50%'),…"
      ]
     },
     "metadata": {},
     "output_type": "display_data"
    },
    {
     "name": "stdout",
     "output_type": "stream",
     "text": [
      "113"
     ]
    }
   ],
   "source": [
    "DF_DIM_ATM.count()"
   ]
  },
  {
   "cell_type": "markdown",
   "id": "4b9e997e-035d-4c1f-97de-28b190380e7c",
   "metadata": {
    "execution": {
     "iopub.execute_input": "2024-07-07T13:27:51.782036Z",
     "iopub.status.busy": "2024-07-07T13:27:51.779620Z",
     "iopub.status.idle": "2024-07-07T13:27:53.974507Z",
     "shell.execute_reply": "2024-07-07T13:27:53.973237Z",
     "shell.execute_reply.started": "2024-07-07T13:27:51.781993Z"
    },
    "tags": []
   },
   "source": [
    "## DIM_DATE Dimension Creation ##"
   ]
  },
  {
   "cell_type": "code",
   "execution_count": 29,
   "id": "b019df10-9261-40db-b887-1203202a5a31",
   "metadata": {
    "execution": {
     "iopub.execute_input": "2024-07-07T16:29:40.086116Z",
     "iopub.status.busy": "2024-07-07T16:29:40.085829Z",
     "iopub.status.idle": "2024-07-07T16:29:41.199249Z",
     "shell.execute_reply": "2024-07-07T16:29:41.190694Z",
     "shell.execute_reply.started": "2024-07-07T16:29:40.086083Z"
    },
    "tags": []
   },
   "outputs": [
    {
     "data": {
      "application/vnd.jupyter.widget-view+json": {
       "model_id": "27708a8c5f39473d98f1487d88eb3282",
       "version_major": 2,
       "version_minor": 0
      },
      "text/plain": [
       "VBox()"
      ]
     },
     "metadata": {},
     "output_type": "display_data"
    },
    {
     "data": {
      "application/vnd.jupyter.widget-view+json": {
       "model_id": "",
       "version_major": 2,
       "version_minor": 0
      },
      "text/plain": [
       "FloatProgress(value=0.0, bar_style='info', description='Progress:', layout=Layout(height='25px', width='50%'),…"
      ]
     },
     "metadata": {},
     "output_type": "display_data"
    }
   ],
   "source": [
    "df_date = df.select('year', 'month', 'day', 'hour', 'weekday')"
   ]
  },
  {
   "cell_type": "markdown",
   "id": "445be8e5-845c-40eb-8605-6978fbfd5b48",
   "metadata": {
    "execution": {
     "iopub.execute_input": "2024-07-07T13:46:34.965983Z",
     "iopub.status.busy": "2024-07-07T13:46:34.965571Z",
     "iopub.status.idle": "2024-07-07T13:46:35.331549Z",
     "shell.execute_reply": "2024-07-07T13:46:35.329973Z",
     "shell.execute_reply.started": "2024-07-07T13:46:34.965951Z"
    }
   },
   "source": [
    "#### Formatting Date ####"
   ]
  },
  {
   "cell_type": "code",
   "execution_count": 30,
   "id": "cd6a508d-d402-4e3c-9440-a34989d1fa0a",
   "metadata": {
    "execution": {
     "iopub.execute_input": "2024-07-07T16:29:41.297195Z",
     "iopub.status.busy": "2024-07-07T16:29:41.296778Z",
     "iopub.status.idle": "2024-07-07T16:29:42.780354Z",
     "shell.execute_reply": "2024-07-07T16:29:42.777899Z",
     "shell.execute_reply.started": "2024-07-07T16:29:41.297154Z"
    },
    "tags": []
   },
   "outputs": [
    {
     "data": {
      "application/vnd.jupyter.widget-view+json": {
       "model_id": "d40a21255d34448486166c45a08e2997",
       "version_major": 2,
       "version_minor": 0
      },
      "text/plain": [
       "VBox()"
      ]
     },
     "metadata": {},
     "output_type": "display_data"
    },
    {
     "data": {
      "application/vnd.jupyter.widget-view+json": {
       "model_id": "",
       "version_major": 2,
       "version_minor": 0
      },
      "text/plain": [
       "FloatProgress(value=0.0, bar_style='info', description='Progress:', layout=Layout(height='25px', width='50%'),…"
      ]
     },
     "metadata": {},
     "output_type": "display_data"
    }
   ],
   "source": [
    "\n",
    "df_date = df_date.withColumn('full_date', concat_ws('-', df_date.year, df_date.month, df_date.day))\n",
    "df_date = df_date.withColumn('full_time', concat_ws(':', df_date.hour, lit('00'), lit('00')))\n",
    "df_date = df_date.withColumn('full_date_time', concat_ws(' ', df_date.full_date, df_date.full_time))\n",
    "date_pattern = 'yyyy-MMM-dd HH:mm:ss'\n",
    "df_date = df_date.withColumn('full_date_time', unix_timestamp(df_date.full_date_time, date_pattern).cast('timestamp'))"
   ]
  },
  {
   "cell_type": "code",
   "execution_count": 31,
   "id": "904a8cfe-224a-4be5-8c6e-d1d153f59ae9",
   "metadata": {
    "execution": {
     "iopub.execute_input": "2024-07-07T16:29:42.786958Z",
     "iopub.status.busy": "2024-07-07T16:29:42.782062Z",
     "iopub.status.idle": "2024-07-07T16:29:44.591027Z",
     "shell.execute_reply": "2024-07-07T16:29:44.589118Z",
     "shell.execute_reply.started": "2024-07-07T16:29:42.786913Z"
    },
    "tags": []
   },
   "outputs": [
    {
     "data": {
      "application/vnd.jupyter.widget-view+json": {
       "model_id": "35746e2c9f494286906a1fb24ef9afe2",
       "version_major": 2,
       "version_minor": 0
      },
      "text/plain": [
       "VBox()"
      ]
     },
     "metadata": {},
     "output_type": "display_data"
    },
    {
     "data": {
      "application/vnd.jupyter.widget-view+json": {
       "model_id": "",
       "version_major": 2,
       "version_minor": 0
      },
      "text/plain": [
       "FloatProgress(value=0.0, bar_style='info', description='Progress:', layout=Layout(height='25px', width='50%'),…"
      ]
     },
     "metadata": {},
     "output_type": "display_data"
    },
    {
     "name": "stdout",
     "output_type": "stream",
     "text": [
      "+----+-------+---+----+-------+--------------+---------+-------------------+\n",
      "|year|month  |day|hour|weekday|full_date     |full_time|full_date_time     |\n",
      "+----+-------+---+----+-------+--------------+---------+-------------------+\n",
      "|2017|January|1  |0   |Sunday |2017-January-1|0:00:00  |2017-01-01 00:00:00|\n",
      "|2017|January|1  |0   |Sunday |2017-January-1|0:00:00  |2017-01-01 00:00:00|\n",
      "|2017|January|1  |0   |Sunday |2017-January-1|0:00:00  |2017-01-01 00:00:00|\n",
      "|2017|January|1  |0   |Sunday |2017-January-1|0:00:00  |2017-01-01 00:00:00|\n",
      "|2017|January|1  |0   |Sunday |2017-January-1|0:00:00  |2017-01-01 00:00:00|\n",
      "+----+-------+---+----+-------+--------------+---------+-------------------+\n",
      "only showing top 5 rows"
     ]
    }
   ],
   "source": [
    "df_date.show(5, truncate = False)"
   ]
  },
  {
   "cell_type": "markdown",
   "id": "410d72cf-35af-4630-98ed-02766ab1379d",
   "metadata": {},
   "source": [
    "#### Selecting the Required Columns ####"
   ]
  },
  {
   "cell_type": "code",
   "execution_count": 32,
   "id": "c7783222-4f2e-4668-814d-f7b4a643e100",
   "metadata": {
    "execution": {
     "iopub.execute_input": "2024-07-07T16:29:44.597626Z",
     "iopub.status.busy": "2024-07-07T16:29:44.595416Z",
     "iopub.status.idle": "2024-07-07T16:29:46.076135Z",
     "shell.execute_reply": "2024-07-07T16:29:46.074925Z",
     "shell.execute_reply.started": "2024-07-07T16:29:44.597582Z"
    },
    "tags": []
   },
   "outputs": [
    {
     "data": {
      "application/vnd.jupyter.widget-view+json": {
       "model_id": "b2fcd9178d0143fda9b02b290411d0ab",
       "version_major": 2,
       "version_minor": 0
      },
      "text/plain": [
       "VBox()"
      ]
     },
     "metadata": {},
     "output_type": "display_data"
    },
    {
     "data": {
      "application/vnd.jupyter.widget-view+json": {
       "model_id": "",
       "version_major": 2,
       "version_minor": 0
      },
      "text/plain": [
       "FloatProgress(value=0.0, bar_style='info', description='Progress:', layout=Layout(height='25px', width='50%'),…"
      ]
     },
     "metadata": {},
     "output_type": "display_data"
    }
   ],
   "source": [
    "\n",
    "df_date = df_date.select('year', 'month', 'day', 'hour', 'weekday', 'full_date_time').distinct()"
   ]
  },
  {
   "cell_type": "markdown",
   "id": "6d5d503f-b7eb-4c88-b818-bf963c8f1711",
   "metadata": {
    "execution": {
     "iopub.execute_input": "2024-07-07T13:47:15.012745Z",
     "iopub.status.busy": "2024-07-07T13:47:15.012389Z",
     "iopub.status.idle": "2024-07-07T13:47:15.301920Z",
     "shell.execute_reply": "2024-07-07T13:47:15.299651Z",
     "shell.execute_reply.started": "2024-07-07T13:47:15.012715Z"
    }
   },
   "source": [
    "#### Create Primary Key for Date Dimension Table ####"
   ]
  },
  {
   "cell_type": "code",
   "execution_count": 33,
   "id": "b77c02b1-2565-45d5-85b7-2e44d4e358ad",
   "metadata": {
    "execution": {
     "iopub.execute_input": "2024-07-07T16:29:46.083722Z",
     "iopub.status.busy": "2024-07-07T16:29:46.078028Z",
     "iopub.status.idle": "2024-07-07T16:30:08.899309Z",
     "shell.execute_reply": "2024-07-07T16:30:08.898035Z",
     "shell.execute_reply.started": "2024-07-07T16:29:46.083672Z"
    },
    "tags": []
   },
   "outputs": [
    {
     "data": {
      "application/vnd.jupyter.widget-view+json": {
       "model_id": "ea1902ae8723496ba98ff1fe05fd8c12",
       "version_major": 2,
       "version_minor": 0
      },
      "text/plain": [
       "VBox()"
      ]
     },
     "metadata": {},
     "output_type": "display_data"
    },
    {
     "data": {
      "application/vnd.jupyter.widget-view+json": {
       "model_id": "",
       "version_major": 2,
       "version_minor": 0
      },
      "text/plain": [
       "FloatProgress(value=0.0, bar_style='info', description='Progress:', layout=Layout(height='25px', width='50%'),…"
      ]
     },
     "metadata": {},
     "output_type": "display_data"
    }
   ],
   "source": [
    "df_dim_date_distinct_zip = df_date.rdd.zipWithUniqueId()\n",
    "df_dim_date=df_dim_date_distinct_zip.map(lambda x: Row(**{'date_id': x[1], **x[0].asDict()})).toDF()"
   ]
  },
  {
   "cell_type": "markdown",
   "id": "4f8f5014-2e8f-4175-a00e-d4cab11ef218",
   "metadata": {},
   "source": [
    "#### Rearranging the Columns ####"
   ]
  },
  {
   "cell_type": "code",
   "execution_count": 34,
   "id": "799409fe-035e-4302-b79d-f7e3d6dd2aaf",
   "metadata": {
    "execution": {
     "iopub.execute_input": "2024-07-07T16:30:08.901476Z",
     "iopub.status.busy": "2024-07-07T16:30:08.900871Z",
     "iopub.status.idle": "2024-07-07T16:30:09.253622Z",
     "shell.execute_reply": "2024-07-07T16:30:09.252359Z",
     "shell.execute_reply.started": "2024-07-07T16:30:08.901434Z"
    },
    "tags": []
   },
   "outputs": [
    {
     "data": {
      "application/vnd.jupyter.widget-view+json": {
       "model_id": "aef45a70b7be49dab65a32269db1c828",
       "version_major": 2,
       "version_minor": 0
      },
      "text/plain": [
       "VBox()"
      ]
     },
     "metadata": {},
     "output_type": "display_data"
    },
    {
     "data": {
      "application/vnd.jupyter.widget-view+json": {
       "model_id": "",
       "version_major": 2,
       "version_minor": 0
      },
      "text/plain": [
       "FloatProgress(value=0.0, bar_style='info', description='Progress:', layout=Layout(height='25px', width='50%'),…"
      ]
     },
     "metadata": {},
     "output_type": "display_data"
    }
   ],
   "source": [
    "DF_DIM_DATE = df_dim_date.select('date_id', 'full_date_time', 'year', 'month', 'day', 'hour', 'weekday')"
   ]
  },
  {
   "cell_type": "markdown",
   "id": "520e0755-355f-402c-84e7-a30f782757ad",
   "metadata": {},
   "source": [
    "#### Validate the No of RowS ####"
   ]
  },
  {
   "cell_type": "code",
   "execution_count": 35,
   "id": "324c52c7-16b0-42da-9c64-644758020bed",
   "metadata": {
    "execution": {
     "iopub.execute_input": "2024-07-07T16:30:09.255004Z",
     "iopub.status.busy": "2024-07-07T16:30:09.254743Z",
     "iopub.status.idle": "2024-07-07T16:30:10.386955Z",
     "shell.execute_reply": "2024-07-07T16:30:10.383697Z",
     "shell.execute_reply.started": "2024-07-07T16:30:09.254980Z"
    },
    "tags": []
   },
   "outputs": [
    {
     "data": {
      "application/vnd.jupyter.widget-view+json": {
       "model_id": "16658f2f23a14b58a20512a0dcb65924",
       "version_major": 2,
       "version_minor": 0
      },
      "text/plain": [
       "VBox()"
      ]
     },
     "metadata": {},
     "output_type": "display_data"
    },
    {
     "data": {
      "application/vnd.jupyter.widget-view+json": {
       "model_id": "",
       "version_major": 2,
       "version_minor": 0
      },
      "text/plain": [
       "FloatProgress(value=0.0, bar_style='info', description='Progress:', layout=Layout(height='25px', width='50%'),…"
      ]
     },
     "metadata": {},
     "output_type": "display_data"
    },
    {
     "name": "stdout",
     "output_type": "stream",
     "text": [
      "8685"
     ]
    }
   ],
   "source": [
    "# Validate the No of ROWS\n",
    "DF_DIM_DATE.count()\n",
    "\n",
    "## 8685"
   ]
  },
  {
   "cell_type": "markdown",
   "id": "c3961e38-752a-4211-87de-83afd6a42880",
   "metadata": {
    "execution": {
     "iopub.execute_input": "2024-07-07T13:48:36.170710Z",
     "iopub.status.busy": "2024-07-07T13:48:36.170084Z",
     "iopub.status.idle": "2024-07-07T13:48:36.474289Z",
     "shell.execute_reply": "2024-07-07T13:48:36.473341Z",
     "shell.execute_reply.started": "2024-07-07T13:48:36.170671Z"
    }
   },
   "source": [
    "## DIM_CARD_TYPE Dimension Creation ##"
   ]
  },
  {
   "cell_type": "code",
   "execution_count": 36,
   "id": "55d3ec3d-f316-4f3e-9683-b4e4216f5626",
   "metadata": {
    "execution": {
     "iopub.execute_input": "2024-07-07T16:30:10.389173Z",
     "iopub.status.busy": "2024-07-07T16:30:10.388584Z",
     "iopub.status.idle": "2024-07-07T16:30:10.885115Z",
     "shell.execute_reply": "2024-07-07T16:30:10.884128Z",
     "shell.execute_reply.started": "2024-07-07T16:30:10.389127Z"
    },
    "tags": []
   },
   "outputs": [
    {
     "data": {
      "application/vnd.jupyter.widget-view+json": {
       "model_id": "16f1b2706fbc463aaa3f56bf77265fe3",
       "version_major": 2,
       "version_minor": 0
      },
      "text/plain": [
       "VBox()"
      ]
     },
     "metadata": {},
     "output_type": "display_data"
    },
    {
     "data": {
      "application/vnd.jupyter.widget-view+json": {
       "model_id": "",
       "version_major": 2,
       "version_minor": 0
      },
      "text/plain": [
       "FloatProgress(value=0.0, bar_style='info', description='Progress:', layout=Layout(height='25px', width='50%'),…"
      ]
     },
     "metadata": {},
     "output_type": "display_data"
    }
   ],
   "source": [
    "df_card = df.select('card_type').distinct()"
   ]
  },
  {
   "cell_type": "markdown",
   "id": "5f3242ab-7dbf-477d-a934-e3f8d895268b",
   "metadata": {},
   "source": [
    "#### Create Primary Key for Card Dimension Table ####"
   ]
  },
  {
   "cell_type": "code",
   "execution_count": 37,
   "id": "be307c30-e91e-48f4-a474-3e87fd31f458",
   "metadata": {
    "execution": {
     "iopub.execute_input": "2024-07-07T16:30:10.893136Z",
     "iopub.status.busy": "2024-07-07T16:30:10.889641Z",
     "iopub.status.idle": "2024-07-07T16:30:15.693111Z",
     "shell.execute_reply": "2024-07-07T16:30:15.691710Z",
     "shell.execute_reply.started": "2024-07-07T16:30:10.893072Z"
    },
    "tags": []
   },
   "outputs": [
    {
     "data": {
      "application/vnd.jupyter.widget-view+json": {
       "model_id": "1470916582ed4cd3909166c393ec3cf3",
       "version_major": 2,
       "version_minor": 0
      },
      "text/plain": [
       "VBox()"
      ]
     },
     "metadata": {},
     "output_type": "display_data"
    },
    {
     "data": {
      "application/vnd.jupyter.widget-view+json": {
       "model_id": "",
       "version_major": 2,
       "version_minor": 0
      },
      "text/plain": [
       "FloatProgress(value=0.0, bar_style='info', description='Progress:', layout=Layout(height='25px', width='50%'),…"
      ]
     },
     "metadata": {},
     "output_type": "display_data"
    }
   ],
   "source": [
    "df_dim_card_distinct_zip = df_card.rdd.zipWithUniqueId()\n",
    "df_dim_card_type=df_dim_card_distinct_zip.map(lambda x: Row(**{'card_type_id': x[1], **x[0].asDict()})).toDF()"
   ]
  },
  {
   "cell_type": "markdown",
   "id": "ab1cce9d-9fbc-4e83-81fe-725c600e5fe4",
   "metadata": {},
   "source": [
    "#### Rearranging the Columns ####"
   ]
  },
  {
   "cell_type": "code",
   "execution_count": 38,
   "id": "29ae917f-75ee-4f13-a196-18b8e854b36a",
   "metadata": {
    "execution": {
     "iopub.execute_input": "2024-07-07T16:30:15.777190Z",
     "iopub.status.busy": "2024-07-07T16:30:15.696646Z",
     "iopub.status.idle": "2024-07-07T16:30:16.590830Z",
     "shell.execute_reply": "2024-07-07T16:30:16.589601Z",
     "shell.execute_reply.started": "2024-07-07T16:30:15.777071Z"
    },
    "tags": []
   },
   "outputs": [
    {
     "data": {
      "application/vnd.jupyter.widget-view+json": {
       "model_id": "8ae7c443e7924b578343b6a26c0d99fb",
       "version_major": 2,
       "version_minor": 0
      },
      "text/plain": [
       "VBox()"
      ]
     },
     "metadata": {},
     "output_type": "display_data"
    },
    {
     "data": {
      "application/vnd.jupyter.widget-view+json": {
       "model_id": "",
       "version_major": 2,
       "version_minor": 0
      },
      "text/plain": [
       "FloatProgress(value=0.0, bar_style='info', description='Progress:', layout=Layout(height='25px', width='50%'),…"
      ]
     },
     "metadata": {},
     "output_type": "display_data"
    }
   ],
   "source": [
    "DF_DIM_CARD_TYPE = df_dim_card_type.select('card_type_id', 'card_type')"
   ]
  },
  {
   "cell_type": "markdown",
   "id": "83e5b3a2-1572-453a-bfd5-b27958f07636",
   "metadata": {},
   "source": [
    "#### Validate the No of RowS ####"
   ]
  },
  {
   "cell_type": "code",
   "execution_count": 39,
   "id": "2f8aaa62-76fe-49a4-8f6a-0cda3442674a",
   "metadata": {
    "execution": {
     "iopub.execute_input": "2024-07-07T16:30:16.593546Z",
     "iopub.status.busy": "2024-07-07T16:30:16.592174Z",
     "iopub.status.idle": "2024-07-07T16:30:18.106559Z",
     "shell.execute_reply": "2024-07-07T16:30:18.105728Z",
     "shell.execute_reply.started": "2024-07-07T16:30:16.593505Z"
    },
    "tags": []
   },
   "outputs": [
    {
     "data": {
      "application/vnd.jupyter.widget-view+json": {
       "model_id": "72c1696442da4ff7aa112785b6613465",
       "version_major": 2,
       "version_minor": 0
      },
      "text/plain": [
       "VBox()"
      ]
     },
     "metadata": {},
     "output_type": "display_data"
    },
    {
     "data": {
      "application/vnd.jupyter.widget-view+json": {
       "model_id": "",
       "version_major": 2,
       "version_minor": 0
      },
      "text/plain": [
       "FloatProgress(value=0.0, bar_style='info', description='Progress:', layout=Layout(height='25px', width='50%'),…"
      ]
     },
     "metadata": {},
     "output_type": "display_data"
    },
    {
     "name": "stdout",
     "output_type": "stream",
     "text": [
      "12"
     ]
    }
   ],
   "source": [
    "DF_DIM_CARD_TYPE.count()\n",
    "\n",
    "## 12"
   ]
  },
  {
   "cell_type": "markdown",
   "id": "3293dec3-ca98-47e0-b5ab-232f55856a37",
   "metadata": {
    "execution": {
     "iopub.execute_input": "2024-07-07T13:58:47.395488Z",
     "iopub.status.busy": "2024-07-07T13:58:47.394782Z",
     "iopub.status.idle": "2024-07-07T13:58:48.089790Z",
     "shell.execute_reply": "2024-07-07T13:58:48.088453Z",
     "shell.execute_reply.started": "2024-07-07T13:58:47.395447Z"
    },
    "tags": []
   },
   "source": [
    "## FACT_ATM_TRANS Fact Creation ##"
   ]
  },
  {
   "cell_type": "markdown",
   "id": "9eda9ed6-823f-4c41-9230-3cb0370c34ae",
   "metadata": {},
   "source": [
    "#### Renaming the Columns as per target Fact tables ####"
   ]
  },
  {
   "cell_type": "code",
   "execution_count": 40,
   "id": "0e608277-a945-40fa-8561-f6b9a5c892be",
   "metadata": {
    "execution": {
     "iopub.execute_input": "2024-07-07T16:30:18.173961Z",
     "iopub.status.busy": "2024-07-07T16:30:18.107793Z",
     "iopub.status.idle": "2024-07-07T16:30:19.272669Z",
     "shell.execute_reply": "2024-07-07T16:30:19.270419Z",
     "shell.execute_reply.started": "2024-07-07T16:30:18.173910Z"
    }
   },
   "outputs": [
    {
     "data": {
      "application/vnd.jupyter.widget-view+json": {
       "model_id": "99e332e15d3f42948994a6457e8ea93b",
       "version_major": 2,
       "version_minor": 0
      },
      "text/plain": [
       "VBox()"
      ]
     },
     "metadata": {},
     "output_type": "display_data"
    },
    {
     "data": {
      "application/vnd.jupyter.widget-view+json": {
       "model_id": "",
       "version_major": 2,
       "version_minor": 0
      },
      "text/plain": [
       "FloatProgress(value=0.0, bar_style='info', description='Progress:', layout=Layout(height='25px', width='50%'),…"
      ]
     },
     "metadata": {},
     "output_type": "display_data"
    }
   ],
   "source": [
    "\n",
    "fact = df.withColumnRenamed('atm_location','location').withColumnRenamed('atm_streetname','streetname').withColumnRenamed('atm_street_number','street_number').withColumnRenamed('atm_zipcode','zipcode').withColumnRenamed('atm_lat','lat').withColumnRenamed('atm_lon','lon')"
   ]
  },
  {
   "cell_type": "markdown",
   "id": "eaa29848-9fe6-468d-84a7-17a6480e5eaa",
   "metadata": {},
   "source": [
    "#### Perform join with DF_DIM_LOCATION Dimension Table ####"
   ]
  },
  {
   "cell_type": "code",
   "execution_count": 41,
   "id": "cfdc9207-c3d2-4192-b6e0-1aec154cddef",
   "metadata": {
    "execution": {
     "iopub.execute_input": "2024-07-07T16:30:19.283292Z",
     "iopub.status.busy": "2024-07-07T16:30:19.278870Z",
     "iopub.status.idle": "2024-07-07T16:30:20.490942Z",
     "shell.execute_reply": "2024-07-07T16:30:20.489029Z",
     "shell.execute_reply.started": "2024-07-07T16:30:19.283241Z"
    }
   },
   "outputs": [
    {
     "data": {
      "application/vnd.jupyter.widget-view+json": {
       "model_id": "e16b94057e9a4280b284ed33b5a22359",
       "version_major": 2,
       "version_minor": 0
      },
      "text/plain": [
       "VBox()"
      ]
     },
     "metadata": {},
     "output_type": "display_data"
    },
    {
     "data": {
      "application/vnd.jupyter.widget-view+json": {
       "model_id": "",
       "version_major": 2,
       "version_minor": 0
      },
      "text/plain": [
       "FloatProgress(value=0.0, bar_style='info', description='Progress:', layout=Layout(height='25px', width='50%'),…"
      ]
     },
     "metadata": {},
     "output_type": "display_data"
    }
   ],
   "source": [
    "fact_loc = fact.join(DF_DIM_LOCATION, on = ['zipcode', 'lat', 'lon', 'location', 'streetname', 'street_number'], how = \"left\")"
   ]
  },
  {
   "cell_type": "code",
   "execution_count": 42,
   "id": "17b531a9-1291-4526-b1e6-5a679d1d3110",
   "metadata": {
    "execution": {
     "iopub.execute_input": "2024-07-07T16:30:20.494421Z",
     "iopub.status.busy": "2024-07-07T16:30:20.493911Z",
     "iopub.status.idle": "2024-07-07T16:30:22.275734Z",
     "shell.execute_reply": "2024-07-07T16:30:22.273535Z",
     "shell.execute_reply.started": "2024-07-07T16:30:20.494357Z"
    }
   },
   "outputs": [
    {
     "data": {
      "application/vnd.jupyter.widget-view+json": {
       "model_id": "9852dfcdd20a4ddbb0dc1b7f69e993ea",
       "version_major": 2,
       "version_minor": 0
      },
      "text/plain": [
       "VBox()"
      ]
     },
     "metadata": {},
     "output_type": "display_data"
    },
    {
     "data": {
      "application/vnd.jupyter.widget-view+json": {
       "model_id": "",
       "version_major": 2,
       "version_minor": 0
      },
      "text/plain": [
       "FloatProgress(value=0.0, bar_style='info', description='Progress:', layout=Layout(height='25px', width='50%'),…"
      ]
     },
     "metadata": {},
     "output_type": "display_data"
    },
    {
     "name": "stdout",
     "output_type": "stream",
     "text": [
      "['zipcode', 'lat', 'lon', 'location', 'streetname', 'street_number', 'year', 'month', 'day', 'weekday', 'hour', 'atm_status', 'atm_id', 'atm_manufacturer', 'currency', 'card_type', 'transaction_amount', 'service', 'message_code', 'message_text', 'weather_lat', 'weather_lon', 'weather_city_id', 'weather_city_name', 'temp', 'pressure', 'humidity', 'wind_speed', 'wind_deg', 'rain_3h', 'clouds_all', 'weather_id', 'weather_main', 'weather_description', 'location_id']"
     ]
    }
   ],
   "source": [
    "fact_loc.columns"
   ]
  },
  {
   "cell_type": "code",
   "execution_count": 43,
   "id": "0bf6ded1-efd0-4a14-ad39-72f97cad0de8",
   "metadata": {
    "execution": {
     "iopub.execute_input": "2024-07-07T16:30:22.278548Z",
     "iopub.status.busy": "2024-07-07T16:30:22.277820Z",
     "iopub.status.idle": "2024-07-07T16:30:23.384713Z",
     "shell.execute_reply": "2024-07-07T16:30:23.383306Z",
     "shell.execute_reply.started": "2024-07-07T16:30:22.278505Z"
    }
   },
   "outputs": [
    {
     "data": {
      "application/vnd.jupyter.widget-view+json": {
       "model_id": "dc434eda95884026a64ab369bb4ebc45",
       "version_major": 2,
       "version_minor": 0
      },
      "text/plain": [
       "VBox()"
      ]
     },
     "metadata": {},
     "output_type": "display_data"
    },
    {
     "data": {
      "application/vnd.jupyter.widget-view+json": {
       "model_id": "",
       "version_major": 2,
       "version_minor": 0
      },
      "text/plain": [
       "FloatProgress(value=0.0, bar_style='info', description='Progress:', layout=Layout(height='25px', width='50%'),…"
      ]
     },
     "metadata": {},
     "output_type": "display_data"
    }
   ],
   "source": [
    "# renaming the colums as required\n",
    "fact_loc = fact_loc.withColumnRenamed('atm_id', 'atm_number').withColumnRenamed('location_id', 'atm_location_id')"
   ]
  },
  {
   "cell_type": "markdown",
   "id": "004a25a3-f71f-47e4-b511-58905efee41a",
   "metadata": {},
   "source": [
    "#### Perform join with DF_DIM_ATM Dimension Table ####"
   ]
  },
  {
   "cell_type": "code",
   "execution_count": 44,
   "id": "285c51a1-352d-4b6b-8721-a13bff945ab5",
   "metadata": {
    "execution": {
     "iopub.execute_input": "2024-07-07T16:30:23.390284Z",
     "iopub.status.busy": "2024-07-07T16:30:23.386831Z",
     "iopub.status.idle": "2024-07-07T16:30:24.378255Z",
     "shell.execute_reply": "2024-07-07T16:30:24.376395Z",
     "shell.execute_reply.started": "2024-07-07T16:30:23.390240Z"
    },
    "tags": []
   },
   "outputs": [
    {
     "data": {
      "application/vnd.jupyter.widget-view+json": {
       "model_id": "aff5fbe7771b4fbeab993c4e9830b76f",
       "version_major": 2,
       "version_minor": 0
      },
      "text/plain": [
       "VBox()"
      ]
     },
     "metadata": {},
     "output_type": "display_data"
    },
    {
     "data": {
      "application/vnd.jupyter.widget-view+json": {
       "model_id": "",
       "version_major": 2,
       "version_minor": 0
      },
      "text/plain": [
       "FloatProgress(value=0.0, bar_style='info', description='Progress:', layout=Layout(height='25px', width='50%'),…"
      ]
     },
     "metadata": {},
     "output_type": "display_data"
    }
   ],
   "source": [
    "fact_atm = fact_loc.join(DF_DIM_ATM, on = ['atm_manufacturer', 'atm_location_id','atm_number'], how = \"left\")"
   ]
  },
  {
   "cell_type": "code",
   "execution_count": 45,
   "id": "329545aa-cf80-4a31-8216-880482f13ebb",
   "metadata": {
    "execution": {
     "iopub.execute_input": "2024-07-07T16:30:24.380585Z",
     "iopub.status.busy": "2024-07-07T16:30:24.379687Z",
     "iopub.status.idle": "2024-07-07T16:30:25.375235Z",
     "shell.execute_reply": "2024-07-07T16:30:25.372110Z",
     "shell.execute_reply.started": "2024-07-07T16:30:24.380542Z"
    }
   },
   "outputs": [
    {
     "data": {
      "application/vnd.jupyter.widget-view+json": {
       "model_id": "cf223e29b35344d1b09eaf7594bb9892",
       "version_major": 2,
       "version_minor": 0
      },
      "text/plain": [
       "VBox()"
      ]
     },
     "metadata": {},
     "output_type": "display_data"
    },
    {
     "data": {
      "application/vnd.jupyter.widget-view+json": {
       "model_id": "",
       "version_major": 2,
       "version_minor": 0
      },
      "text/plain": [
       "FloatProgress(value=0.0, bar_style='info', description='Progress:', layout=Layout(height='25px', width='50%'),…"
      ]
     },
     "metadata": {},
     "output_type": "display_data"
    }
   ],
   "source": [
    "# renaming the colums as required\n",
    "fact_atm = fact_atm.withColumnRenamed('atm_location_id', 'weather_loc_id')"
   ]
  },
  {
   "cell_type": "markdown",
   "id": "c66f3e9e-d94e-4591-a251-a2cfb005cd99",
   "metadata": {},
   "source": [
    "#### Perform join with DF_DIM_DATE Dimension Table ####"
   ]
  },
  {
   "cell_type": "code",
   "execution_count": 46,
   "id": "a1768200-d9a5-4625-9e2d-8fc8a878c8db",
   "metadata": {
    "execution": {
     "iopub.execute_input": "2024-07-07T16:30:25.380730Z",
     "iopub.status.busy": "2024-07-07T16:30:25.377374Z",
     "iopub.status.idle": "2024-07-07T16:30:26.293124Z",
     "shell.execute_reply": "2024-07-07T16:30:26.291292Z",
     "shell.execute_reply.started": "2024-07-07T16:30:25.380687Z"
    }
   },
   "outputs": [
    {
     "data": {
      "application/vnd.jupyter.widget-view+json": {
       "model_id": "35f341a75ba440dca1050b0c8b972090",
       "version_major": 2,
       "version_minor": 0
      },
      "text/plain": [
       "VBox()"
      ]
     },
     "metadata": {},
     "output_type": "display_data"
    },
    {
     "data": {
      "application/vnd.jupyter.widget-view+json": {
       "model_id": "",
       "version_major": 2,
       "version_minor": 0
      },
      "text/plain": [
       "FloatProgress(value=0.0, bar_style='info', description='Progress:', layout=Layout(height='25px', width='50%'),…"
      ]
     },
     "metadata": {},
     "output_type": "display_data"
    }
   ],
   "source": [
    "fact_date = fact_atm.join(DF_DIM_DATE, on = ['year', 'month', 'day', 'hour', 'weekday'], how = \"left\")"
   ]
  },
  {
   "cell_type": "markdown",
   "id": "abe7a67a-f38d-461b-b9c1-e5c6aa1281ba",
   "metadata": {},
   "source": [
    "#### Perform join with DF_DIM_CARD_TYPE Dimension Table ####"
   ]
  },
  {
   "cell_type": "code",
   "execution_count": 47,
   "id": "53c1df11-e442-4a33-9d05-811bf9a6e7f0",
   "metadata": {
    "execution": {
     "iopub.execute_input": "2024-07-07T16:30:26.295590Z",
     "iopub.status.busy": "2024-07-07T16:30:26.295124Z",
     "iopub.status.idle": "2024-07-07T16:30:27.292451Z",
     "shell.execute_reply": "2024-07-07T16:30:27.289275Z",
     "shell.execute_reply.started": "2024-07-07T16:30:26.295483Z"
    }
   },
   "outputs": [
    {
     "data": {
      "application/vnd.jupyter.widget-view+json": {
       "model_id": "389494199d794d51b46851bde9581dc4",
       "version_major": 2,
       "version_minor": 0
      },
      "text/plain": [
       "VBox()"
      ]
     },
     "metadata": {},
     "output_type": "display_data"
    },
    {
     "data": {
      "application/vnd.jupyter.widget-view+json": {
       "model_id": "",
       "version_major": 2,
       "version_minor": 0
      },
      "text/plain": [
       "FloatProgress(value=0.0, bar_style='info', description='Progress:', layout=Layout(height='25px', width='50%'),…"
      ]
     },
     "metadata": {},
     "output_type": "display_data"
    }
   ],
   "source": [
    "fact_date = fact_date.join(DF_DIM_CARD_TYPE, on = ['card_type'], how = \"left\")"
   ]
  },
  {
   "cell_type": "markdown",
   "id": "7304ca47-0da5-44b8-b275-687a0cb1ffc0",
   "metadata": {},
   "source": [
    "#### Validate the No of RowS ####"
   ]
  },
  {
   "cell_type": "code",
   "execution_count": 48,
   "id": "204041e5-9527-4779-a2c3-b8e4cdf279f6",
   "metadata": {
    "execution": {
     "iopub.execute_input": "2024-07-07T16:30:27.300712Z",
     "iopub.status.busy": "2024-07-07T16:30:27.299485Z",
     "iopub.status.idle": "2024-07-07T16:30:44.731105Z",
     "shell.execute_reply": "2024-07-07T16:30:44.727221Z",
     "shell.execute_reply.started": "2024-07-07T16:30:27.300632Z"
    },
    "tags": []
   },
   "outputs": [
    {
     "data": {
      "application/vnd.jupyter.widget-view+json": {
       "model_id": "227791bf8c4f4fab9b46b5efaf4c36fe",
       "version_major": 2,
       "version_minor": 0
      },
      "text/plain": [
       "VBox()"
      ]
     },
     "metadata": {},
     "output_type": "display_data"
    },
    {
     "data": {
      "application/vnd.jupyter.widget-view+json": {
       "model_id": "",
       "version_major": 2,
       "version_minor": 0
      },
      "text/plain": [
       "FloatProgress(value=0.0, bar_style='info', description='Progress:', layout=Layout(height='25px', width='50%'),…"
      ]
     },
     "metadata": {},
     "output_type": "display_data"
    },
    {
     "name": "stdout",
     "output_type": "stream",
     "text": [
      "2468572"
     ]
    }
   ],
   "source": [
    "fact_date.count()"
   ]
  },
  {
   "cell_type": "code",
   "execution_count": null,
   "id": "ec7d781d-e933-4782-8bf6-5233c5b33a6c",
   "metadata": {},
   "outputs": [],
   "source": []
  },
  {
   "cell_type": "markdown",
   "id": "6d6fb283-eb44-47ed-990f-544f77bbde71",
   "metadata": {},
   "source": [
    "#### Create Primary Key for Fact Table ####"
   ]
  },
  {
   "cell_type": "code",
   "execution_count": 49,
   "id": "041cd370-1079-4e53-8f0d-5303656f9031",
   "metadata": {
    "execution": {
     "iopub.execute_input": "2024-07-07T16:30:44.772539Z",
     "iopub.status.busy": "2024-07-07T16:30:44.742759Z",
     "iopub.status.idle": "2024-07-07T16:30:45.116760Z",
     "shell.execute_reply": "2024-07-07T16:30:45.106728Z",
     "shell.execute_reply.started": "2024-07-07T16:30:44.772478Z"
    }
   },
   "outputs": [
    {
     "data": {
      "application/vnd.jupyter.widget-view+json": {
       "model_id": "a7b72526d04e4d55aba99997991ff8e7",
       "version_major": 2,
       "version_minor": 0
      },
      "text/plain": [
       "VBox()"
      ]
     },
     "metadata": {},
     "output_type": "display_data"
    },
    {
     "data": {
      "application/vnd.jupyter.widget-view+json": {
       "model_id": "",
       "version_major": 2,
       "version_minor": 0
      },
      "text/plain": [
       "FloatProgress(value=0.0, bar_style='info', description='Progress:', layout=Layout(height='25px', width='50%'),…"
      ]
     },
     "metadata": {},
     "output_type": "display_data"
    }
   ],
   "source": [
    "from pyspark.sql.window import Window\n",
    "\n",
    "w = Window().orderBy('date_id')\n",
    "DF_FACT_ATM_TRANS = fact_date.withColumn(\"trans_id\", row_number().over(w))"
   ]
  },
  {
   "cell_type": "markdown",
   "id": "730fdac7-26ac-4a65-831b-4dd9f63f53af",
   "metadata": {},
   "source": [
    "#### Rearranging the Columns ####"
   ]
  },
  {
   "cell_type": "code",
   "execution_count": 50,
   "id": "51c2d1a3-73f2-48d1-bfc5-f9c75a3b6505",
   "metadata": {
    "execution": {
     "iopub.execute_input": "2024-07-07T16:30:45.121623Z",
     "iopub.status.busy": "2024-07-07T16:30:45.121229Z",
     "iopub.status.idle": "2024-07-07T16:30:45.504664Z",
     "shell.execute_reply": "2024-07-07T16:30:45.503132Z",
     "shell.execute_reply.started": "2024-07-07T16:30:45.121579Z"
    }
   },
   "outputs": [
    {
     "data": {
      "application/vnd.jupyter.widget-view+json": {
       "model_id": "39b1458b0f9c4c2cb4bc1731cae6b49a",
       "version_major": 2,
       "version_minor": 0
      },
      "text/plain": [
       "VBox()"
      ]
     },
     "metadata": {},
     "output_type": "display_data"
    },
    {
     "data": {
      "application/vnd.jupyter.widget-view+json": {
       "model_id": "",
       "version_major": 2,
       "version_minor": 0
      },
      "text/plain": [
       "FloatProgress(value=0.0, bar_style='info', description='Progress:', layout=Layout(height='25px', width='50%'),…"
      ]
     },
     "metadata": {},
     "output_type": "display_data"
    }
   ],
   "source": [
    "\n",
    "DF_FACT_ATM_TRANS = DF_FACT_ATM_TRANS.select('trans_id', 'atm_id', 'weather_loc_id', 'date_id', 'card_type_id', \n",
    "'atm_status', 'currency', 'service', 'transaction_amount', 'message_code', 'message_text', 'rain_3h', \n",
    "'clouds_all', 'weather_id', 'weather_main', 'weather_description')"
   ]
  },
  {
   "cell_type": "code",
   "execution_count": 51,
   "id": "e0cfb451-ea06-4721-8a2c-f04347f83d35",
   "metadata": {
    "execution": {
     "iopub.execute_input": "2024-07-07T16:30:45.508227Z",
     "iopub.status.busy": "2024-07-07T16:30:45.506282Z",
     "iopub.status.idle": "2024-07-07T16:30:58.377031Z",
     "shell.execute_reply": "2024-07-07T16:30:58.375825Z",
     "shell.execute_reply.started": "2024-07-07T16:30:45.508109Z"
    },
    "tags": []
   },
   "outputs": [
    {
     "data": {
      "application/vnd.jupyter.widget-view+json": {
       "model_id": "dc254a8240454071885ebd984222fb36",
       "version_major": 2,
       "version_minor": 0
      },
      "text/plain": [
       "VBox()"
      ]
     },
     "metadata": {},
     "output_type": "display_data"
    },
    {
     "data": {
      "application/vnd.jupyter.widget-view+json": {
       "model_id": "",
       "version_major": 2,
       "version_minor": 0
      },
      "text/plain": [
       "FloatProgress(value=0.0, bar_style='info', description='Progress:', layout=Layout(height='25px', width='50%'),…"
      ]
     },
     "metadata": {},
     "output_type": "display_data"
    },
    {
     "name": "stdout",
     "output_type": "stream",
     "text": [
      "2468572"
     ]
    }
   ],
   "source": [
    "DF_FACT_ATM_TRANS.count()"
   ]
  },
  {
   "cell_type": "markdown",
   "id": "0e696134-8fe8-474c-8650-1c4ca26f393b",
   "metadata": {
    "execution": {
     "iopub.execute_input": "2024-07-07T15:07:41.984967Z",
     "iopub.status.busy": "2024-07-07T15:07:41.984606Z",
     "iopub.status.idle": "2024-07-07T15:07:43.000877Z",
     "shell.execute_reply": "2024-07-07T15:07:42.999964Z",
     "shell.execute_reply.started": "2024-07-07T15:07:41.984926Z"
    },
    "tags": []
   },
   "source": [
    "## PUSHING ALL THE DIMENSIONS AND FACT TABLE INTO S3 ##"
   ]
  },
  {
   "cell_type": "markdown",
   "id": "abe9a04e-9b09-442a-83b3-6c9246395aef",
   "metadata": {},
   "source": [
    "##### Exporting pyspark df 'DF_DIM_CARD_TYPE' in csv format in S3 bucket 'rds-sqoop-hadoop-spark-df-s3/dim_card_type'"
   ]
  },
  {
   "cell_type": "code",
   "execution_count": 57,
   "id": "7b93adf5-06b2-4cdf-ac20-9524d8f294fa",
   "metadata": {
    "execution": {
     "iopub.execute_input": "2024-07-07T16:36:27.737061Z",
     "iopub.status.busy": "2024-07-07T16:36:27.736630Z",
     "iopub.status.idle": "2024-07-07T16:36:43.762178Z",
     "shell.execute_reply": "2024-07-07T16:36:43.760849Z",
     "shell.execute_reply.started": "2024-07-07T16:36:27.736943Z"
    },
    "tags": []
   },
   "outputs": [
    {
     "data": {
      "application/vnd.jupyter.widget-view+json": {
       "model_id": "c1462d5a8a444d63835b99adf3a2ebb7",
       "version_major": 2,
       "version_minor": 0
      },
      "text/plain": [
       "VBox()"
      ]
     },
     "metadata": {},
     "output_type": "display_data"
    },
    {
     "data": {
      "application/vnd.jupyter.widget-view+json": {
       "model_id": "",
       "version_major": 2,
       "version_minor": 0
      },
      "text/plain": [
       "FloatProgress(value=0.0, bar_style='info', description='Progress:', layout=Layout(height='25px', width='50%'),…"
      ]
     },
     "metadata": {},
     "output_type": "display_data"
    }
   ],
   "source": [
    "s3_bucket_path = \"s3://rds-sqoop-hadoop-spark-df-s3-etl/dim_card_type/\"\n",
    "DF_DIM_CARD_TYPE.coalesce(1).write.csv(s3_bucket_path, mode='overwrite', header=False)"
   ]
  },
  {
   "cell_type": "markdown",
   "id": "c09e4ac8-9213-436a-be0d-5f7123469b16",
   "metadata": {},
   "source": [
    "##### Exporting pyspark df 'DF_DIM_DATE' in csv format in S3 bucket 'rds-sqoop-hadoop-spark-df-s3/dim_date'"
   ]
  },
  {
   "cell_type": "code",
   "execution_count": 53,
   "id": "be852de2-b334-4734-96e6-2e075a08d6b5",
   "metadata": {
    "execution": {
     "iopub.execute_input": "2024-07-07T16:31:04.905840Z",
     "iopub.status.busy": "2024-07-07T16:31:04.905343Z",
     "iopub.status.idle": "2024-07-07T16:31:08.905035Z",
     "shell.execute_reply": "2024-07-07T16:31:08.898969Z",
     "shell.execute_reply.started": "2024-07-07T16:31:04.905807Z"
    }
   },
   "outputs": [
    {
     "data": {
      "application/vnd.jupyter.widget-view+json": {
       "model_id": "db900eb1b86b4b75a559bfc0f9cc8d76",
       "version_major": 2,
       "version_minor": 0
      },
      "text/plain": [
       "VBox()"
      ]
     },
     "metadata": {},
     "output_type": "display_data"
    },
    {
     "data": {
      "application/vnd.jupyter.widget-view+json": {
       "model_id": "",
       "version_major": 2,
       "version_minor": 0
      },
      "text/plain": [
       "FloatProgress(value=0.0, bar_style='info', description='Progress:', layout=Layout(height='25px', width='50%'),…"
      ]
     },
     "metadata": {},
     "output_type": "display_data"
    }
   ],
   "source": [
    "s3_bucket_path = \"s3://rds-sqoop-hadoop-spark-df-s3-etl/dim_date/\"\n",
    "DF_DIM_DATE.coalesce(1).write.csv(s3_bucket_path, mode='overwrite', header=False)"
   ]
  },
  {
   "cell_type": "markdown",
   "id": "f0604277-cfbe-44ce-a4b9-785ce7ab2204",
   "metadata": {},
   "source": [
    "##### Exporting pyspark df 'DF_DIM_ATM' in csv format in S3 bucket 'rds-sqoop-hadoop-spark-df-s3/dim_atm'"
   ]
  },
  {
   "cell_type": "code",
   "execution_count": 54,
   "id": "26361639-40eb-45f6-ad45-4464a56d7294",
   "metadata": {
    "execution": {
     "iopub.execute_input": "2024-07-07T16:31:08.912272Z",
     "iopub.status.busy": "2024-07-07T16:31:08.910163Z",
     "iopub.status.idle": "2024-07-07T16:31:11.882567Z",
     "shell.execute_reply": "2024-07-07T16:31:11.881414Z",
     "shell.execute_reply.started": "2024-07-07T16:31:08.910996Z"
    }
   },
   "outputs": [
    {
     "data": {
      "application/vnd.jupyter.widget-view+json": {
       "model_id": "544f5b75ca20463d844f4d3e9cb57c2f",
       "version_major": 2,
       "version_minor": 0
      },
      "text/plain": [
       "VBox()"
      ]
     },
     "metadata": {},
     "output_type": "display_data"
    },
    {
     "data": {
      "application/vnd.jupyter.widget-view+json": {
       "model_id": "",
       "version_major": 2,
       "version_minor": 0
      },
      "text/plain": [
       "FloatProgress(value=0.0, bar_style='info', description='Progress:', layout=Layout(height='25px', width='50%'),…"
      ]
     },
     "metadata": {},
     "output_type": "display_data"
    }
   ],
   "source": [
    "s3_bucket_path = \"s3://rds-sqoop-hadoop-spark-df-s3-etl/dim_atm/\"\n",
    "DF_DIM_ATM.coalesce(1).write.csv(s3_bucket_path, mode='overwrite', header=False)"
   ]
  },
  {
   "cell_type": "markdown",
   "id": "44c3b4b4-36bd-4278-b5b6-f4ebb749f165",
   "metadata": {},
   "source": [
    "##### Exporting pyspark df 'DF_DIM_LOCATION' in csv format in S3 bucket 'rds-sqoop-hadoop-spark-df-s3/dim_location'"
   ]
  },
  {
   "cell_type": "code",
   "execution_count": 55,
   "id": "034367a2-5fa4-4b78-9419-01284b51647e",
   "metadata": {
    "execution": {
     "iopub.execute_input": "2024-07-07T16:31:11.884005Z",
     "iopub.status.busy": "2024-07-07T16:31:11.883661Z",
     "iopub.status.idle": "2024-07-07T16:31:15.674855Z",
     "shell.execute_reply": "2024-07-07T16:31:15.581010Z",
     "shell.execute_reply.started": "2024-07-07T16:31:11.883970Z"
    },
    "tags": []
   },
   "outputs": [
    {
     "data": {
      "application/vnd.jupyter.widget-view+json": {
       "model_id": "3aba84a916174e50b3c598dc7f4c1fba",
       "version_major": 2,
       "version_minor": 0
      },
      "text/plain": [
       "VBox()"
      ]
     },
     "metadata": {},
     "output_type": "display_data"
    },
    {
     "data": {
      "application/vnd.jupyter.widget-view+json": {
       "model_id": "",
       "version_major": 2,
       "version_minor": 0
      },
      "text/plain": [
       "FloatProgress(value=0.0, bar_style='info', description='Progress:', layout=Layout(height='25px', width='50%'),…"
      ]
     },
     "metadata": {},
     "output_type": "display_data"
    }
   ],
   "source": [
    "s3_bucket_path = \"s3://rds-sqoop-hadoop-spark-df-s3-etl/dim_location/\"\n",
    "DF_DIM_LOCATION.coalesce(1).write.csv(s3_bucket_path, mode='overwrite', header=False)"
   ]
  },
  {
   "cell_type": "markdown",
   "id": "9b1e7e11-0595-49e8-8a96-e624a3f863a1",
   "metadata": {},
   "source": [
    "##### Exporting pyspark df 'DF_FACT_ATM_TRANS' in csv format in S3 bucket 'rds-sqoop-hadoop-spark-df-s3/fact_atm_trans'"
   ]
  },
  {
   "cell_type": "code",
   "execution_count": 56,
   "id": "7f98c52f-c10e-4cd4-bfcf-1c4c515ad1fc",
   "metadata": {
    "execution": {
     "iopub.execute_input": "2024-07-07T16:31:15.677608Z",
     "iopub.status.busy": "2024-07-07T16:31:15.677175Z",
     "iopub.status.idle": "2024-07-07T16:31:49.192967Z",
     "shell.execute_reply": "2024-07-07T16:31:49.191527Z",
     "shell.execute_reply.started": "2024-07-07T16:31:15.677566Z"
    },
    "tags": []
   },
   "outputs": [
    {
     "data": {
      "application/vnd.jupyter.widget-view+json": {
       "model_id": "d1d7fffe10974342b0a45057932b89b2",
       "version_major": 2,
       "version_minor": 0
      },
      "text/plain": [
       "VBox()"
      ]
     },
     "metadata": {},
     "output_type": "display_data"
    },
    {
     "data": {
      "application/vnd.jupyter.widget-view+json": {
       "model_id": "",
       "version_major": 2,
       "version_minor": 0
      },
      "text/plain": [
       "FloatProgress(value=0.0, bar_style='info', description='Progress:', layout=Layout(height='25px', width='50%'),…"
      ]
     },
     "metadata": {},
     "output_type": "display_data"
    }
   ],
   "source": [
    "s3_bucket_path = \"s3://rds-sqoop-hadoop-spark-df-s3-etl/fact_atm_trans/\"\n",
    "DF_FACT_ATM_TRANS.coalesce(1).write.format('csv').option('header','false').save(s3_bucket_path, mode='overwrite')"
   ]
  },
  {
   "cell_type": "code",
   "execution_count": null,
   "id": "8a1ecef1-0662-49de-b84f-8a51b202edb0",
   "metadata": {},
   "outputs": [],
   "source": []
  }
 ],
 "metadata": {
  "kernelspec": {
   "display_name": "PySpark",
   "language": "",
   "name": "pysparkkernel"
  },
  "language_info": {
   "codemirror_mode": {
    "name": "python",
    "version": 2
   },
   "mimetype": "text/x-python",
   "name": "pyspark",
   "pygments_lexer": "python2"
  }
 },
 "nbformat": 4,
 "nbformat_minor": 5
}
